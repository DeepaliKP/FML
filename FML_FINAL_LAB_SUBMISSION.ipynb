{
 "cells": [
  {
   "cell_type": "markdown",
   "metadata": {
    "id": "yNK-15oPV9qF"
   },
   "source": [
    "# FML LAB ASSIGNMENT #\n",
    "# Name : A Ghananand #\n",
    "# rollno. : 201046014 #\n",
    "\n"
   ]
  },
  {
   "cell_type": "markdown",
   "metadata": {
    "id": "-Km3VAx_kBSD"
   },
   "source": [
    "# Part 1 #"
   ]
  },
  {
   "cell_type": "markdown",
   "metadata": {
    "id": "mg4XJ2hJj6K8"
   },
   "source": [
    "Download iris dataset form UCI machine learning repository and use the dataset to develop the following classifiers and find the accuracy of the model. Compare and comment on the results:\n",
    "\n",
    "Part-1:\n",
    "\n",
    "Decision Tree Classifier\n",
    "\n",
    "Naïve Bayes Classifier\n",
    "\n",
    "Logistic Regression classifier\n",
    "\n",
    "K-NN classifier\n",
    "\n",
    "Logistic Regression model and apply PAC\n",
    "\n",
    "Random Forest Model\n",
    "\n",
    "Ada Boost Model"
   ]
  },
  {
   "cell_type": "markdown",
   "metadata": {
    "id": "8O4-dqf90va5"
   },
   "source": [
    "## Importing data and data preprocessing ##"
   ]
  },
  {
   "cell_type": "code",
   "execution_count": null,
   "metadata": {
    "id": "LheRIGsWj3c9"
   },
   "outputs": [],
   "source": [
    "import pandas as pd\n",
    "import numpy as np\n",
    "import matplotlib.pyplot as plt\n",
    "import os"
   ]
  },
  {
   "cell_type": "code",
   "execution_count": null,
   "metadata": {
    "id": "x6RGVu1wkdq_"
   },
   "outputs": [],
   "source": [
    "data = pd.read_csv('Iris.csv')"
   ]
  },
  {
   "cell_type": "code",
   "execution_count": null,
   "metadata": {
    "colab": {
     "base_uri": "https://localhost:8080/",
     "height": 195
    },
    "id": "MAh0QJFSkfBJ",
    "outputId": "f52d16ec-4880-41ea-e48d-91b4c063ba68"
   },
   "outputs": [
    {
     "data": {
      "text/html": [
       "<div>\n",
       "<style scoped>\n",
       "    .dataframe tbody tr th:only-of-type {\n",
       "        vertical-align: middle;\n",
       "    }\n",
       "\n",
       "    .dataframe tbody tr th {\n",
       "        vertical-align: top;\n",
       "    }\n",
       "\n",
       "    .dataframe thead th {\n",
       "        text-align: right;\n",
       "    }\n",
       "</style>\n",
       "<table border=\"1\" class=\"dataframe\">\n",
       "  <thead>\n",
       "    <tr style=\"text-align: right;\">\n",
       "      <th></th>\n",
       "      <th>Id</th>\n",
       "      <th>SepalLengthCm</th>\n",
       "      <th>SepalWidthCm</th>\n",
       "      <th>PetalLengthCm</th>\n",
       "      <th>PetalWidthCm</th>\n",
       "      <th>Species</th>\n",
       "    </tr>\n",
       "  </thead>\n",
       "  <tbody>\n",
       "    <tr>\n",
       "      <th>0</th>\n",
       "      <td>1</td>\n",
       "      <td>5.1</td>\n",
       "      <td>3.5</td>\n",
       "      <td>1.4</td>\n",
       "      <td>0.2</td>\n",
       "      <td>Iris-setosa</td>\n",
       "    </tr>\n",
       "    <tr>\n",
       "      <th>1</th>\n",
       "      <td>2</td>\n",
       "      <td>4.9</td>\n",
       "      <td>3.0</td>\n",
       "      <td>1.4</td>\n",
       "      <td>0.2</td>\n",
       "      <td>Iris-setosa</td>\n",
       "    </tr>\n",
       "    <tr>\n",
       "      <th>2</th>\n",
       "      <td>3</td>\n",
       "      <td>4.7</td>\n",
       "      <td>3.2</td>\n",
       "      <td>1.3</td>\n",
       "      <td>0.2</td>\n",
       "      <td>Iris-setosa</td>\n",
       "    </tr>\n",
       "    <tr>\n",
       "      <th>3</th>\n",
       "      <td>4</td>\n",
       "      <td>4.6</td>\n",
       "      <td>3.1</td>\n",
       "      <td>1.5</td>\n",
       "      <td>0.2</td>\n",
       "      <td>Iris-setosa</td>\n",
       "    </tr>\n",
       "    <tr>\n",
       "      <th>4</th>\n",
       "      <td>5</td>\n",
       "      <td>5.0</td>\n",
       "      <td>3.6</td>\n",
       "      <td>1.4</td>\n",
       "      <td>0.2</td>\n",
       "      <td>Iris-setosa</td>\n",
       "    </tr>\n",
       "  </tbody>\n",
       "</table>\n",
       "</div>"
      ],
      "text/plain": [
       "   Id  SepalLengthCm  SepalWidthCm  PetalLengthCm  PetalWidthCm      Species\n",
       "0   1            5.1           3.5            1.4           0.2  Iris-setosa\n",
       "1   2            4.9           3.0            1.4           0.2  Iris-setosa\n",
       "2   3            4.7           3.2            1.3           0.2  Iris-setosa\n",
       "3   4            4.6           3.1            1.5           0.2  Iris-setosa\n",
       "4   5            5.0           3.6            1.4           0.2  Iris-setosa"
      ]
     },
     "execution_count": 115,
     "metadata": {
      "tags": []
     },
     "output_type": "execute_result"
    }
   ],
   "source": [
    "data.head()"
   ]
  },
  {
   "cell_type": "code",
   "execution_count": null,
   "metadata": {
    "colab": {
     "base_uri": "https://localhost:8080/"
    },
    "id": "lmwfRrgkk4uE",
    "outputId": "764e2034-ac01-43ed-e7fa-dcbdf1afcaad"
   },
   "outputs": [
    {
     "data": {
      "text/plain": [
       "Id               0\n",
       "SepalLengthCm    0\n",
       "SepalWidthCm     0\n",
       "PetalLengthCm    0\n",
       "PetalWidthCm     0\n",
       "Species          0\n",
       "dtype: int64"
      ]
     },
     "execution_count": 116,
     "metadata": {
      "tags": []
     },
     "output_type": "execute_result"
    }
   ],
   "source": [
    "data.isnull().sum()   # No NaN values in dataset"
   ]
  },
  {
   "cell_type": "code",
   "execution_count": null,
   "metadata": {
    "colab": {
     "base_uri": "https://localhost:8080/"
    },
    "id": "HWukogS2_wOD",
    "outputId": "23e209be-b569-4129-a16e-5c101e1ef3bf"
   },
   "outputs": [
    {
     "name": "stdout",
     "output_type": "stream",
     "text": [
      "35\n",
      "23\n",
      "43\n",
      "22\n"
     ]
    }
   ],
   "source": [
    "print(len(data['SepalLengthCm'].unique()))\n",
    "print(len(data['SepalWidthCm'].unique()))\n",
    "print(len(data['PetalLengthCm'].unique()))\n",
    "print(len(data['PetalWidthCm'].unique()))"
   ]
  },
  {
   "cell_type": "code",
   "execution_count": null,
   "metadata": {
    "colab": {
     "base_uri": "https://localhost:8080/",
     "height": 284
    },
    "id": "tsUqnm-MpsnO",
    "outputId": "5f8a9b4f-4156-436b-9913-d748e1af134f"
   },
   "outputs": [
    {
     "data": {
      "text/html": [
       "<div>\n",
       "<style scoped>\n",
       "    .dataframe tbody tr th:only-of-type {\n",
       "        vertical-align: middle;\n",
       "    }\n",
       "\n",
       "    .dataframe tbody tr th {\n",
       "        vertical-align: top;\n",
       "    }\n",
       "\n",
       "    .dataframe thead th {\n",
       "        text-align: right;\n",
       "    }\n",
       "</style>\n",
       "<table border=\"1\" class=\"dataframe\">\n",
       "  <thead>\n",
       "    <tr style=\"text-align: right;\">\n",
       "      <th></th>\n",
       "      <th>Id</th>\n",
       "      <th>SepalLengthCm</th>\n",
       "      <th>SepalWidthCm</th>\n",
       "      <th>PetalLengthCm</th>\n",
       "      <th>PetalWidthCm</th>\n",
       "    </tr>\n",
       "  </thead>\n",
       "  <tbody>\n",
       "    <tr>\n",
       "      <th>count</th>\n",
       "      <td>150.000000</td>\n",
       "      <td>150.000000</td>\n",
       "      <td>150.000000</td>\n",
       "      <td>150.000000</td>\n",
       "      <td>150.000000</td>\n",
       "    </tr>\n",
       "    <tr>\n",
       "      <th>mean</th>\n",
       "      <td>75.500000</td>\n",
       "      <td>5.843333</td>\n",
       "      <td>3.054000</td>\n",
       "      <td>3.758667</td>\n",
       "      <td>1.198667</td>\n",
       "    </tr>\n",
       "    <tr>\n",
       "      <th>std</th>\n",
       "      <td>43.445368</td>\n",
       "      <td>0.828066</td>\n",
       "      <td>0.433594</td>\n",
       "      <td>1.764420</td>\n",
       "      <td>0.763161</td>\n",
       "    </tr>\n",
       "    <tr>\n",
       "      <th>min</th>\n",
       "      <td>1.000000</td>\n",
       "      <td>4.300000</td>\n",
       "      <td>2.000000</td>\n",
       "      <td>1.000000</td>\n",
       "      <td>0.100000</td>\n",
       "    </tr>\n",
       "    <tr>\n",
       "      <th>25%</th>\n",
       "      <td>38.250000</td>\n",
       "      <td>5.100000</td>\n",
       "      <td>2.800000</td>\n",
       "      <td>1.600000</td>\n",
       "      <td>0.300000</td>\n",
       "    </tr>\n",
       "    <tr>\n",
       "      <th>50%</th>\n",
       "      <td>75.500000</td>\n",
       "      <td>5.800000</td>\n",
       "      <td>3.000000</td>\n",
       "      <td>4.350000</td>\n",
       "      <td>1.300000</td>\n",
       "    </tr>\n",
       "    <tr>\n",
       "      <th>75%</th>\n",
       "      <td>112.750000</td>\n",
       "      <td>6.400000</td>\n",
       "      <td>3.300000</td>\n",
       "      <td>5.100000</td>\n",
       "      <td>1.800000</td>\n",
       "    </tr>\n",
       "    <tr>\n",
       "      <th>max</th>\n",
       "      <td>150.000000</td>\n",
       "      <td>7.900000</td>\n",
       "      <td>4.400000</td>\n",
       "      <td>6.900000</td>\n",
       "      <td>2.500000</td>\n",
       "    </tr>\n",
       "  </tbody>\n",
       "</table>\n",
       "</div>"
      ],
      "text/plain": [
       "               Id  SepalLengthCm  SepalWidthCm  PetalLengthCm  PetalWidthCm\n",
       "count  150.000000     150.000000    150.000000     150.000000    150.000000\n",
       "mean    75.500000       5.843333      3.054000       3.758667      1.198667\n",
       "std     43.445368       0.828066      0.433594       1.764420      0.763161\n",
       "min      1.000000       4.300000      2.000000       1.000000      0.100000\n",
       "25%     38.250000       5.100000      2.800000       1.600000      0.300000\n",
       "50%     75.500000       5.800000      3.000000       4.350000      1.300000\n",
       "75%    112.750000       6.400000      3.300000       5.100000      1.800000\n",
       "max    150.000000       7.900000      4.400000       6.900000      2.500000"
      ]
     },
     "execution_count": 118,
     "metadata": {
      "tags": []
     },
     "output_type": "execute_result"
    }
   ],
   "source": [
    "data.describe()"
   ]
  },
  {
   "cell_type": "code",
   "execution_count": null,
   "metadata": {
    "colab": {
     "base_uri": "https://localhost:8080/"
    },
    "id": "uz3GFdr_rpH0",
    "outputId": "e6a2de22-d154-4a84-cd99-9d1a09d27f29"
   },
   "outputs": [
    {
     "name": "stdout",
     "output_type": "stream",
     "text": [
      "<class 'pandas.core.frame.DataFrame'>\n",
      "RangeIndex: 150 entries, 0 to 149\n",
      "Data columns (total 6 columns):\n",
      " #   Column         Non-Null Count  Dtype  \n",
      "---  ------         --------------  -----  \n",
      " 0   Id             150 non-null    int64  \n",
      " 1   SepalLengthCm  150 non-null    float64\n",
      " 2   SepalWidthCm   150 non-null    float64\n",
      " 3   PetalLengthCm  150 non-null    float64\n",
      " 4   PetalWidthCm   150 non-null    float64\n",
      " 5   Species        150 non-null    object \n",
      "dtypes: float64(4), int64(1), object(1)\n",
      "memory usage: 7.2+ KB\n"
     ]
    }
   ],
   "source": [
    "data.info()"
   ]
  },
  {
   "cell_type": "code",
   "execution_count": null,
   "metadata": {
    "id": "Vz856lifsc9x"
   },
   "outputs": [],
   "source": []
  },
  {
   "cell_type": "markdown",
   "metadata": {
    "id": "mfTMBVeelBmh"
   },
   "source": [
    "## 1. Decision Tree Classifier ##"
   ]
  },
  {
   "cell_type": "code",
   "execution_count": null,
   "metadata": {
    "id": "poDv3kMZkif8"
   },
   "outputs": [],
   "source": [
    "X= data.iloc[:,1:5]\n",
    "y=data.iloc[:,-1]"
   ]
  },
  {
   "cell_type": "code",
   "execution_count": null,
   "metadata": {
    "colab": {
     "base_uri": "https://localhost:8080/",
     "height": 195
    },
    "id": "_4cl7mRrmZ0Q",
    "outputId": "2cb6d002-008e-49b3-8475-ae3b49b063a8"
   },
   "outputs": [
    {
     "data": {
      "text/html": [
       "<div>\n",
       "<style scoped>\n",
       "    .dataframe tbody tr th:only-of-type {\n",
       "        vertical-align: middle;\n",
       "    }\n",
       "\n",
       "    .dataframe tbody tr th {\n",
       "        vertical-align: top;\n",
       "    }\n",
       "\n",
       "    .dataframe thead th {\n",
       "        text-align: right;\n",
       "    }\n",
       "</style>\n",
       "<table border=\"1\" class=\"dataframe\">\n",
       "  <thead>\n",
       "    <tr style=\"text-align: right;\">\n",
       "      <th></th>\n",
       "      <th>SepalLengthCm</th>\n",
       "      <th>SepalWidthCm</th>\n",
       "      <th>PetalLengthCm</th>\n",
       "      <th>PetalWidthCm</th>\n",
       "    </tr>\n",
       "  </thead>\n",
       "  <tbody>\n",
       "    <tr>\n",
       "      <th>0</th>\n",
       "      <td>5.1</td>\n",
       "      <td>3.5</td>\n",
       "      <td>1.4</td>\n",
       "      <td>0.2</td>\n",
       "    </tr>\n",
       "    <tr>\n",
       "      <th>1</th>\n",
       "      <td>4.9</td>\n",
       "      <td>3.0</td>\n",
       "      <td>1.4</td>\n",
       "      <td>0.2</td>\n",
       "    </tr>\n",
       "    <tr>\n",
       "      <th>2</th>\n",
       "      <td>4.7</td>\n",
       "      <td>3.2</td>\n",
       "      <td>1.3</td>\n",
       "      <td>0.2</td>\n",
       "    </tr>\n",
       "    <tr>\n",
       "      <th>3</th>\n",
       "      <td>4.6</td>\n",
       "      <td>3.1</td>\n",
       "      <td>1.5</td>\n",
       "      <td>0.2</td>\n",
       "    </tr>\n",
       "    <tr>\n",
       "      <th>4</th>\n",
       "      <td>5.0</td>\n",
       "      <td>3.6</td>\n",
       "      <td>1.4</td>\n",
       "      <td>0.2</td>\n",
       "    </tr>\n",
       "  </tbody>\n",
       "</table>\n",
       "</div>"
      ],
      "text/plain": [
       "   SepalLengthCm  SepalWidthCm  PetalLengthCm  PetalWidthCm\n",
       "0            5.1           3.5            1.4           0.2\n",
       "1            4.9           3.0            1.4           0.2\n",
       "2            4.7           3.2            1.3           0.2\n",
       "3            4.6           3.1            1.5           0.2\n",
       "4            5.0           3.6            1.4           0.2"
      ]
     },
     "execution_count": 11,
     "metadata": {
      "tags": []
     },
     "output_type": "execute_result"
    }
   ],
   "source": [
    "X.head()"
   ]
  },
  {
   "cell_type": "code",
   "execution_count": null,
   "metadata": {
    "colab": {
     "base_uri": "https://localhost:8080/"
    },
    "id": "vDCw_eFtmbfw",
    "outputId": "b42df332-5737-494f-fa6b-cb8c3d07b68b"
   },
   "outputs": [
    {
     "data": {
      "text/plain": [
       "145    Iris-virginica\n",
       "146    Iris-virginica\n",
       "147    Iris-virginica\n",
       "148    Iris-virginica\n",
       "149    Iris-virginica\n",
       "Name: Species, dtype: object"
      ]
     },
     "execution_count": 12,
     "metadata": {
      "tags": []
     },
     "output_type": "execute_result"
    }
   ],
   "source": [
    "y.tail()"
   ]
  },
  {
   "cell_type": "code",
   "execution_count": null,
   "metadata": {
    "colab": {
     "base_uri": "https://localhost:8080/"
    },
    "id": "mHb1osfRrArI",
    "outputId": "aef70262-aace-4ecf-a0bf-671363705856"
   },
   "outputs": [
    {
     "data": {
      "text/plain": [
       "array([0, 0, 0, 0, 0, 0, 0, 0, 0, 0, 0, 0, 0, 0, 0, 0, 0, 0, 0, 0, 0, 0,\n",
       "       0, 0, 0, 0, 0, 0, 0, 0, 0, 0, 0, 0, 0, 0, 0, 0, 0, 0, 0, 0, 0, 0,\n",
       "       0, 0, 0, 0, 0, 0, 1, 1, 1, 1, 1, 1, 1, 1, 1, 1, 1, 1, 1, 1, 1, 1,\n",
       "       1, 1, 1, 1, 1, 1, 1, 1, 1, 1, 1, 1, 1, 1, 1, 1, 1, 1, 1, 1, 1, 1,\n",
       "       1, 1, 1, 1, 1, 1, 1, 1, 1, 1, 1, 1, 2, 2, 2, 2, 2, 2, 2, 2, 2, 2,\n",
       "       2, 2, 2, 2, 2, 2, 2, 2, 2, 2, 2, 2, 2, 2, 2, 2, 2, 2, 2, 2, 2, 2,\n",
       "       2, 2, 2, 2, 2, 2, 2, 2, 2, 2, 2, 2, 2, 2, 2, 2, 2, 2])"
      ]
     },
     "execution_count": 13,
     "metadata": {
      "tags": []
     },
     "output_type": "execute_result"
    }
   ],
   "source": [
    "# Label encoding the categorical data #\n",
    "from sklearn.preprocessing import LabelEncoder\n",
    "labelencoder = LabelEncoder()\n",
    "y=labelencoder.fit_transform(y)\n",
    "y"
   ]
  },
  {
   "cell_type": "code",
   "execution_count": null,
   "metadata": {
    "id": "tB-lfpLumdGZ"
   },
   "outputs": [],
   "source": [
    "from sklearn.model_selection import train_test_split\n",
    "X_train,X_test,y_train,y_test = train_test_split(X,y,test_size=0.2,random_state = 0)"
   ]
  },
  {
   "cell_type": "code",
   "execution_count": null,
   "metadata": {
    "id": "55LpSj-9m5xz"
   },
   "outputs": [],
   "source": [
    "#feature scaling\n",
    "from sklearn.preprocessing import StandardScaler\n",
    "sc_X = StandardScaler()\n",
    "X_train = sc_X.fit_transform(X_train)\n",
    "X_test=sc_X.fit_transform(X_test)"
   ]
  },
  {
   "cell_type": "code",
   "execution_count": null,
   "metadata": {
    "colab": {
     "base_uri": "https://localhost:8080/"
    },
    "id": "SpI57KZAm918",
    "outputId": "91495008-b4f2-48ed-e24e-bfcb5cebfe0a"
   },
   "outputs": [
    {
     "data": {
      "text/plain": [
       "DecisionTreeClassifier(ccp_alpha=0.0, class_weight=None, criterion='entropy',\n",
       "                       max_depth=None, max_features=None, max_leaf_nodes=None,\n",
       "                       min_impurity_decrease=0.0, min_impurity_split=None,\n",
       "                       min_samples_leaf=1, min_samples_split=2,\n",
       "                       min_weight_fraction_leaf=0.0, presort='deprecated',\n",
       "                       random_state=0, splitter='best')"
      ]
     },
     "execution_count": 16,
     "metadata": {
      "tags": []
     },
     "output_type": "execute_result"
    }
   ],
   "source": [
    "# Fitting Dtree classification to the training set\n",
    "from sklearn.tree  import DecisionTreeClassifier\n",
    "classifier = DecisionTreeClassifier(criterion='entropy',random_state = 0)\n",
    "classifier.fit(X_train,y_train)"
   ]
  },
  {
   "cell_type": "code",
   "execution_count": null,
   "metadata": {
    "colab": {
     "base_uri": "https://localhost:8080/"
    },
    "id": "fhIGyIYyqkpa",
    "outputId": "f16e8a6b-d7a1-4e36-aa04-a97aae135844"
   },
   "outputs": [
    {
     "data": {
      "text/plain": [
       "DecisionTreeClassifier(ccp_alpha=0.0, class_weight=None, criterion='gini',\n",
       "                       max_depth=None, max_features=None, max_leaf_nodes=None,\n",
       "                       min_impurity_decrease=0.0, min_impurity_split=None,\n",
       "                       min_samples_leaf=1, min_samples_split=2,\n",
       "                       min_weight_fraction_leaf=0.0, presort='deprecated',\n",
       "                       random_state=0, splitter='best')"
      ]
     },
     "execution_count": 17,
     "metadata": {
      "tags": []
     },
     "output_type": "execute_result"
    }
   ],
   "source": [
    "classifiergini = DecisionTreeClassifier(criterion= 'gini' , random_state = 0)\n",
    "classifiergini.fit(X_train,y_train) "
   ]
  },
  {
   "cell_type": "code",
   "execution_count": null,
   "metadata": {
    "colab": {
     "base_uri": "https://localhost:8080/"
    },
    "id": "I0fmrbRvnDQ4",
    "outputId": "fff7b35b-9539-4103-9cbd-7b6326e2e766"
   },
   "outputs": [
    {
     "data": {
      "text/plain": [
       "array([2, 1, 0, 2, 0, 2, 0, 1, 1, 1, 2, 2, 2, 1, 1, 0, 2, 1, 0, 0, 2, 2,\n",
       "       0, 0, 2, 0, 0, 1, 1, 0])"
      ]
     },
     "execution_count": 18,
     "metadata": {
      "tags": []
     },
     "output_type": "execute_result"
    }
   ],
   "source": [
    "#Predicting the Test set Results\n",
    "y_pred = classifier.predict(X_test)\n",
    "y_pred"
   ]
  },
  {
   "cell_type": "code",
   "execution_count": null,
   "metadata": {
    "colab": {
     "base_uri": "https://localhost:8080/"
    },
    "id": "bOvDsCsquKw2",
    "outputId": "476b3a0f-997f-4e8b-800b-99850191ff57"
   },
   "outputs": [
    {
     "data": {
      "text/plain": [
       "array([2, 1, 0, 2, 0, 2, 0, 1, 1, 1, 2, 2, 2, 1, 1, 0, 2, 1, 0, 0, 2, 2,\n",
       "       0, 0, 2, 0, 0, 1, 1, 0])"
      ]
     },
     "execution_count": 19,
     "metadata": {
      "tags": []
     },
     "output_type": "execute_result"
    }
   ],
   "source": [
    "#Predicting the Test set Results\n",
    "y_pred_gini = classifiergini.predict(X_test)\n",
    "y_pred_gini"
   ]
  },
  {
   "cell_type": "code",
   "execution_count": null,
   "metadata": {
    "colab": {
     "base_uri": "https://localhost:8080/"
    },
    "id": "O6U5GP5CnFtK",
    "outputId": "038ef2c4-325f-4485-cd09-f58111767754"
   },
   "outputs": [
    {
     "data": {
      "text/plain": [
       "array([[11,  0,  0],\n",
       "       [ 0,  9,  4],\n",
       "       [ 0,  0,  6]])"
      ]
     },
     "execution_count": 20,
     "metadata": {
      "tags": []
     },
     "output_type": "execute_result"
    }
   ],
   "source": [
    "# Making confusion matrix\n",
    "from sklearn.metrics import confusion_matrix\n",
    "cm = confusion_matrix(y_test,y_pred)\n",
    "cm"
   ]
  },
  {
   "cell_type": "code",
   "execution_count": null,
   "metadata": {
    "colab": {
     "base_uri": "https://localhost:8080/"
    },
    "id": "ZRC8F5-luaGy",
    "outputId": "8acab0ef-e9ef-4971-b070-1418e5763abe"
   },
   "outputs": [
    {
     "data": {
      "text/plain": [
       "array([[11,  0,  0],\n",
       "       [ 0,  9,  4],\n",
       "       [ 0,  0,  6]])"
      ]
     },
     "execution_count": 21,
     "metadata": {
      "tags": []
     },
     "output_type": "execute_result"
    }
   ],
   "source": [
    "# Making confusion matrix\n",
    "from sklearn.metrics import confusion_matrix\n",
    "cm = confusion_matrix(y_test,y_pred_gini)\n",
    "cm"
   ]
  },
  {
   "cell_type": "code",
   "execution_count": null,
   "metadata": {
    "colab": {
     "base_uri": "https://localhost:8080/",
     "height": 279
    },
    "id": "MZEvUYZOnIL6",
    "outputId": "b1888399-9f06-4c56-cd5c-e7e7edc6521c"
   },
   "outputs": [
    {
     "data": {
      "image/png": "[encoded data removed]",
      "text/plain": [
       "<Figure size 432x288 with 2 Axes>"
      ]
     },
     "metadata": {
      "needs_background": "light",
      "tags": []
     },
     "output_type": "display_data"
    }
   ],
   "source": [
    "from sklearn.metrics import plot_confusion_matrix\n",
    "plot_confusion_matrix(classifier, X_test, y_test) \n",
    "plt.show()"
   ]
  },
  {
   "cell_type": "code",
   "execution_count": null,
   "metadata": {
    "colab": {
     "base_uri": "https://localhost:8080/"
    },
    "id": "92BeU_1otgao",
    "outputId": "588492e0-c2fd-47fd-c241-a3c082d64af6"
   },
   "outputs": [
    {
     "name": "stdout",
     "output_type": "stream",
     "text": [
      "Accuracy :  86.66666666666667 %\n"
     ]
    }
   ],
   "source": [
    "from sklearn import metrics\n",
    "prediction = metrics.accuracy_score(y_test,y_pred)\n",
    "print(\"Accuracy : \" , prediction * 100 , \"%\")"
   ]
  },
  {
   "cell_type": "code",
   "execution_count": null,
   "metadata": {
    "colab": {
     "base_uri": "https://localhost:8080/",
     "height": 279
    },
    "id": "fSCzZoCuq1kP",
    "outputId": "a11f7036-7e66-4c88-84e4-684fbb5c7217"
   },
   "outputs": [
    {
     "data": {
      "image/png": "[encoded data removed]",
      "text/plain": [
       "<Figure size 432x288 with 2 Axes>"
      ]
     },
     "metadata": {
      "needs_background": "light",
      "tags": []
     },
     "output_type": "display_data"
    }
   ],
   "source": [
    "from sklearn.metrics import plot_confusion_matrix\n",
    "plot_confusion_matrix(classifiergini, X_test, y_test) \n",
    "plt.show()"
   ]
  },
  {
   "cell_type": "code",
   "execution_count": null,
   "metadata": {
    "colab": {
     "base_uri": "https://localhost:8080/"
    },
    "id": "PynDe9-auF5v",
    "outputId": "f48d0904-78b2-4c55-9547-84e70d039c3c"
   },
   "outputs": [
    {
     "name": "stdout",
     "output_type": "stream",
     "text": [
      "Accuracy :  86.66666666666667 %\n"
     ]
    }
   ],
   "source": [
    "from sklearn import metrics\n",
    "prediction = metrics.accuracy_score(y_test,y_pred)\n",
    "print(\"Accuracy : \" , prediction * 100 , \"%\")"
   ]
  },
  {
   "cell_type": "code",
   "execution_count": null,
   "metadata": {
    "colab": {
     "base_uri": "https://localhost:8080/",
     "height": 1000
    },
    "id": "uqXUOIguyAhi",
    "outputId": "51295d4b-5397-44ce-ea63-2acc2ba7c427"
   },
   "outputs": [
    {
     "data": {
      "image/png": "[encoded data removed]",
      "text/plain": [
       "<Figure size 2880x2880 with 1 Axes>"
      ]
     },
     "metadata": {
      "needs_background": "light",
      "tags": []
     },
     "output_type": "display_data"
    }
   ],
   "source": [
    "from sklearn import tree\n",
    "plt.figure(figsize=(40,40))\n",
    "tree.plot_tree(classifier);\n"
   ]
  },
  {
   "cell_type": "code",
   "execution_count": null,
   "metadata": {
    "colab": {
     "base_uri": "https://localhost:8080/",
     "height": 1000
    },
    "id": "r7mlBo6znsrr",
    "outputId": "79e31f19-01b3-4924-89e1-d48bdb4e7221"
   },
   "outputs": [
    {
     "data": {
      "image/png": "[encoded data removed]",
      "text/plain": [
       "<Figure size 1440x1440 with 1 Axes>"
      ]
     },
     "metadata": {
      "needs_background": "light",
      "tags": []
     },
     "output_type": "display_data"
    }
   ],
   "source": [
    "from sklearn import tree\n",
    "plt.figure(figsize=(20,20))\n",
    "tree.plot_tree(classifiergini);"
   ]
  },
  {
   "cell_type": "code",
   "execution_count": null,
   "metadata": {
    "id": "oAEzf_jRobeF"
   },
   "outputs": [],
   "source": []
  },
  {
   "cell_type": "markdown",
   "metadata": {
    "id": "s5lP2JtJyXkr"
   },
   "source": [
    "## Naive Bayes Classifier ##"
   ]
  },
  {
   "cell_type": "code",
   "execution_count": null,
   "metadata": {
    "id": "SXV76CCXyhLZ"
   },
   "outputs": [],
   "source": [
    "X= data.iloc[:,1:5]\n",
    "y=data.iloc[:,-1]"
   ]
  },
  {
   "cell_type": "code",
   "execution_count": null,
   "metadata": {
    "colab": {
     "base_uri": "https://localhost:8080/"
    },
    "id": "62G_hpY-0dU4",
    "outputId": "0090a9b4-2385-4038-ce90-c2029ef57f50"
   },
   "outputs": [
    {
     "data": {
      "text/plain": [
       "array([0, 0, 0, 0, 0, 0, 0, 0, 0, 0, 0, 0, 0, 0, 0, 0, 0, 0, 0, 0, 0, 0,\n",
       "       0, 0, 0, 0, 0, 0, 0, 0, 0, 0, 0, 0, 0, 0, 0, 0, 0, 0, 0, 0, 0, 0,\n",
       "       0, 0, 0, 0, 0, 0, 1, 1, 1, 1, 1, 1, 1, 1, 1, 1, 1, 1, 1, 1, 1, 1,\n",
       "       1, 1, 1, 1, 1, 1, 1, 1, 1, 1, 1, 1, 1, 1, 1, 1, 1, 1, 1, 1, 1, 1,\n",
       "       1, 1, 1, 1, 1, 1, 1, 1, 1, 1, 1, 1, 2, 2, 2, 2, 2, 2, 2, 2, 2, 2,\n",
       "       2, 2, 2, 2, 2, 2, 2, 2, 2, 2, 2, 2, 2, 2, 2, 2, 2, 2, 2, 2, 2, 2,\n",
       "       2, 2, 2, 2, 2, 2, 2, 2, 2, 2, 2, 2, 2, 2, 2, 2, 2, 2])"
      ]
     },
     "execution_count": 29,
     "metadata": {
      "tags": []
     },
     "output_type": "execute_result"
    }
   ],
   "source": [
    "# Label encoding the categorical data #\n",
    "from sklearn.preprocessing import LabelEncoder\n",
    "labelencoder = LabelEncoder()\n",
    "y=labelencoder.fit_transform(y)\n",
    "y"
   ]
  },
  {
   "cell_type": "code",
   "execution_count": null,
   "metadata": {
    "id": "95Tk2MYdyhFe"
   },
   "outputs": [],
   "source": [
    "from sklearn.model_selection import train_test_split\n",
    "X_train,X_test,y_train,y_test = train_test_split(X,y,test_size=0.2,random_state=0)"
   ]
  },
  {
   "cell_type": "code",
   "execution_count": null,
   "metadata": {
    "colab": {
     "base_uri": "https://localhost:8080/",
     "height": 402
    },
    "id": "MQtP7MlLyg-o",
    "outputId": "66b01a34-b40c-4331-ca36-e2ec5065fc64"
   },
   "outputs": [
    {
     "data": {
      "text/html": [
       "<div>\n",
       "<style scoped>\n",
       "    .dataframe tbody tr th:only-of-type {\n",
       "        vertical-align: middle;\n",
       "    }\n",
       "\n",
       "    .dataframe tbody tr th {\n",
       "        vertical-align: top;\n",
       "    }\n",
       "\n",
       "    .dataframe thead th {\n",
       "        text-align: right;\n",
       "    }\n",
       "</style>\n",
       "<table border=\"1\" class=\"dataframe\">\n",
       "  <thead>\n",
       "    <tr style=\"text-align: right;\">\n",
       "      <th></th>\n",
       "      <th>SepalLengthCm</th>\n",
       "      <th>SepalWidthCm</th>\n",
       "      <th>PetalLengthCm</th>\n",
       "      <th>PetalWidthCm</th>\n",
       "    </tr>\n",
       "  </thead>\n",
       "  <tbody>\n",
       "    <tr>\n",
       "      <th>137</th>\n",
       "      <td>6.4</td>\n",
       "      <td>3.1</td>\n",
       "      <td>5.5</td>\n",
       "      <td>1.8</td>\n",
       "    </tr>\n",
       "    <tr>\n",
       "      <th>84</th>\n",
       "      <td>5.4</td>\n",
       "      <td>3.0</td>\n",
       "      <td>4.5</td>\n",
       "      <td>1.5</td>\n",
       "    </tr>\n",
       "    <tr>\n",
       "      <th>27</th>\n",
       "      <td>5.2</td>\n",
       "      <td>3.5</td>\n",
       "      <td>1.5</td>\n",
       "      <td>0.2</td>\n",
       "    </tr>\n",
       "    <tr>\n",
       "      <th>127</th>\n",
       "      <td>6.1</td>\n",
       "      <td>3.0</td>\n",
       "      <td>4.9</td>\n",
       "      <td>1.8</td>\n",
       "    </tr>\n",
       "    <tr>\n",
       "      <th>132</th>\n",
       "      <td>6.4</td>\n",
       "      <td>2.8</td>\n",
       "      <td>5.6</td>\n",
       "      <td>2.2</td>\n",
       "    </tr>\n",
       "    <tr>\n",
       "      <th>...</th>\n",
       "      <td>...</td>\n",
       "      <td>...</td>\n",
       "      <td>...</td>\n",
       "      <td>...</td>\n",
       "    </tr>\n",
       "    <tr>\n",
       "      <th>9</th>\n",
       "      <td>4.9</td>\n",
       "      <td>3.1</td>\n",
       "      <td>1.5</td>\n",
       "      <td>0.1</td>\n",
       "    </tr>\n",
       "    <tr>\n",
       "      <th>103</th>\n",
       "      <td>6.3</td>\n",
       "      <td>2.9</td>\n",
       "      <td>5.6</td>\n",
       "      <td>1.8</td>\n",
       "    </tr>\n",
       "    <tr>\n",
       "      <th>67</th>\n",
       "      <td>5.8</td>\n",
       "      <td>2.7</td>\n",
       "      <td>4.1</td>\n",
       "      <td>1.0</td>\n",
       "    </tr>\n",
       "    <tr>\n",
       "      <th>117</th>\n",
       "      <td>7.7</td>\n",
       "      <td>3.8</td>\n",
       "      <td>6.7</td>\n",
       "      <td>2.2</td>\n",
       "    </tr>\n",
       "    <tr>\n",
       "      <th>47</th>\n",
       "      <td>4.6</td>\n",
       "      <td>3.2</td>\n",
       "      <td>1.4</td>\n",
       "      <td>0.2</td>\n",
       "    </tr>\n",
       "  </tbody>\n",
       "</table>\n",
       "<p>120 rows × 4 columns</p>\n",
       "</div>"
      ],
      "text/plain": [
       "     SepalLengthCm  SepalWidthCm  PetalLengthCm  PetalWidthCm\n",
       "137            6.4           3.1            5.5           1.8\n",
       "84             5.4           3.0            4.5           1.5\n",
       "27             5.2           3.5            1.5           0.2\n",
       "127            6.1           3.0            4.9           1.8\n",
       "132            6.4           2.8            5.6           2.2\n",
       "..             ...           ...            ...           ...\n",
       "9              4.9           3.1            1.5           0.1\n",
       "103            6.3           2.9            5.6           1.8\n",
       "67             5.8           2.7            4.1           1.0\n",
       "117            7.7           3.8            6.7           2.2\n",
       "47             4.6           3.2            1.4           0.2\n",
       "\n",
       "[120 rows x 4 columns]"
      ]
     },
     "execution_count": 31,
     "metadata": {
      "tags": []
     },
     "output_type": "execute_result"
    }
   ],
   "source": [
    "X_train"
   ]
  },
  {
   "cell_type": "code",
   "execution_count": null,
   "metadata": {
    "id": "GQiBHVouygqt"
   },
   "outputs": [],
   "source": [
    "# feature scaling                      \n",
    "from sklearn.preprocessing import StandardScaler\n",
    "sc = StandardScaler()\n",
    "X_train = sc.fit_transform(X_train)  # when you are going to learn only then you will use fit \n",
    "X_test = sc.transform(X_test)"
   ]
  },
  {
   "cell_type": "code",
   "execution_count": null,
   "metadata": {
    "colab": {
     "base_uri": "https://localhost:8080/"
    },
    "id": "yLo0VhEfztIw",
    "outputId": "98ca014a-fb4a-45f9-86b6-cbd0a50b4e47"
   },
   "outputs": [
    {
     "data": {
      "text/plain": [
       "GaussianNB(priors=None, var_smoothing=1e-09)"
      ]
     },
     "execution_count": 33,
     "metadata": {
      "tags": []
     },
     "output_type": "execute_result"
    }
   ],
   "source": [
    "from sklearn.naive_bayes import GaussianNB\n",
    "classifier = GaussianNB()\n",
    "classifier.fit(X_train,y_train)"
   ]
  },
  {
   "cell_type": "code",
   "execution_count": null,
   "metadata": {
    "id": "oV9MTaKYzvZq"
   },
   "outputs": [],
   "source": [
    "y_pred = classifier.predict(X_test)"
   ]
  },
  {
   "cell_type": "code",
   "execution_count": null,
   "metadata": {
    "colab": {
     "base_uri": "https://localhost:8080/"
    },
    "id": "_Ks4ynRZzxZB",
    "outputId": "f1a13b6b-e221-43ab-980a-cc53b3e50bb9"
   },
   "outputs": [
    {
     "data": {
      "text/plain": [
       "array([[11,  0,  0],\n",
       "       [ 0, 13,  0],\n",
       "       [ 0,  1,  5]])"
      ]
     },
     "execution_count": 35,
     "metadata": {
      "tags": []
     },
     "output_type": "execute_result"
    }
   ],
   "source": [
    "# Making confusion matrix\n",
    "from sklearn.metrics import confusion_matrix\n",
    "cm = confusion_matrix(y_test,y_pred)\n",
    "cm"
   ]
  },
  {
   "cell_type": "code",
   "execution_count": null,
   "metadata": {
    "colab": {
     "base_uri": "https://localhost:8080/",
     "height": 279
    },
    "id": "Z5VXzQvIzzOd",
    "outputId": "637a70a3-7f85-457b-af24-34055b736992"
   },
   "outputs": [
    {
     "data": {
      "image/png": "[encoded data removed]",
      "text/plain": [
       "<Figure size 432x288 with 2 Axes>"
      ]
     },
     "metadata": {
      "needs_background": "light",
      "tags": []
     },
     "output_type": "display_data"
    }
   ],
   "source": [
    "from sklearn.metrics import plot_confusion_matrix\n",
    "plot_confusion_matrix(classifier, X_test, y_test) \n",
    "plt.show()"
   ]
  },
  {
   "cell_type": "code",
   "execution_count": null,
   "metadata": {
    "colab": {
     "base_uri": "https://localhost:8080/"
    },
    "id": "QQw1pOPBz3GY",
    "outputId": "660ffaee-70e4-4d29-9667-9ad0f471063a"
   },
   "outputs": [
    {
     "name": "stdout",
     "output_type": "stream",
     "text": [
      "Accuracy :  96.66666666666667 %\n"
     ]
    }
   ],
   "source": [
    "from sklearn import metrics\n",
    "prediction = metrics.accuracy_score(y_test,y_pred)\n",
    "print(\"Accuracy : \" , prediction * 100 , \"%\")"
   ]
  },
  {
   "cell_type": "markdown",
   "metadata": {
    "id": "tnEemG6e0mOG"
   },
   "source": [
    "## Logistic Regression ##"
   ]
  },
  {
   "cell_type": "code",
   "execution_count": null,
   "metadata": {
    "id": "P7h5ssBq4eUO"
   },
   "outputs": [],
   "source": [
    "X= data.iloc[:,1:5]\n",
    "y=data.iloc[:,-1]"
   ]
  },
  {
   "cell_type": "code",
   "execution_count": null,
   "metadata": {
    "id": "cUrn3L8i45Ww"
   },
   "outputs": [],
   "source": [
    "from sklearn.model_selection import train_test_split\n",
    "X_train,X_test,y_train,y_test = train_test_split(X,y,test_size=0.2,random_state=0)"
   ]
  },
  {
   "cell_type": "code",
   "execution_count": null,
   "metadata": {
    "id": "SBjPDo-r4buA"
   },
   "outputs": [],
   "source": [
    "# feature scaling                      \n",
    "from sklearn.preprocessing import StandardScaler\n",
    "sc = StandardScaler()\n",
    "X_train = sc.fit_transform(X_train)  # when you are going to learn only then you will use fit \n",
    "X_test = sc.transform(X_test)"
   ]
  },
  {
   "cell_type": "code",
   "execution_count": null,
   "metadata": {
    "colab": {
     "base_uri": "https://localhost:8080/"
    },
    "id": "H6_Oo-1U3epu",
    "outputId": "ca93dcfb-8784-4368-aa46-90054d82b6ae"
   },
   "outputs": [
    {
     "data": {
      "text/plain": [
       "LogisticRegression(C=1.0, class_weight=None, dual=False, fit_intercept=True,\n",
       "                   intercept_scaling=1, l1_ratio=None, max_iter=100,\n",
       "                   multi_class='auto', n_jobs=None, penalty='l2',\n",
       "                   random_state=0, solver='lbfgs', tol=0.0001, verbose=0,\n",
       "                   warm_start=False)"
      ]
     },
     "execution_count": 52,
     "metadata": {
      "tags": []
     },
     "output_type": "execute_result"
    }
   ],
   "source": [
    "from sklearn.linear_model import LogisticRegression\n",
    "classifier = LogisticRegression(random_state=0)\n",
    "classifier.fit(X_train,y_train)"
   ]
  },
  {
   "cell_type": "code",
   "execution_count": null,
   "metadata": {
    "id": "xoi39r_74BBd"
   },
   "outputs": [],
   "source": [
    "y_pred = classifier.predict(X_test)"
   ]
  },
  {
   "cell_type": "code",
   "execution_count": null,
   "metadata": {
    "colab": {
     "base_uri": "https://localhost:8080/"
    },
    "id": "gU2zv5214EIC",
    "outputId": "5ece1a64-1842-4d42-abba-7f94cdc84c21"
   },
   "outputs": [
    {
     "data": {
      "text/plain": [
       "array([[11,  0,  0],\n",
       "       [ 0, 13,  0],\n",
       "       [ 0,  0,  6]])"
      ]
     },
     "execution_count": 54,
     "metadata": {
      "tags": []
     },
     "output_type": "execute_result"
    }
   ],
   "source": [
    "# Making confusion matrix\n",
    "from sklearn.metrics import confusion_matrix\n",
    "cm = confusion_matrix(y_test,y_pred)\n",
    "cm"
   ]
  },
  {
   "cell_type": "code",
   "execution_count": null,
   "metadata": {
    "colab": {
     "base_uri": "https://localhost:8080/",
     "height": 279
    },
    "id": "TqTPkp7r4F3Y",
    "outputId": "f1d8f764-4fa6-4902-a364-ba002a0bbfcb"
   },
   "outputs": [
    {
     "data": {
      "image/png": "[encoded data removed]",
      "text/plain": [
       "<Figure size 432x288 with 2 Axes>"
      ]
     },
     "metadata": {
      "needs_background": "light",
      "tags": []
     },
     "output_type": "display_data"
    }
   ],
   "source": [
    "from sklearn.metrics import plot_confusion_matrix\n",
    "plot_confusion_matrix(classifier, X_test, y_test) \n",
    "plt.show()"
   ]
  },
  {
   "cell_type": "code",
   "execution_count": null,
   "metadata": {
    "colab": {
     "base_uri": "https://localhost:8080/"
    },
    "id": "bpqOLeaQ4Iyx",
    "outputId": "a07e6bcb-a0aa-4f48-ffaf-ee05e5843c6c"
   },
   "outputs": [
    {
     "name": "stdout",
     "output_type": "stream",
     "text": [
      "Accuracy :  100.0 %\n"
     ]
    }
   ],
   "source": [
    "from sklearn import metrics\n",
    "prediction = metrics.accuracy_score(y_test,y_pred)\n",
    "print(\"Accuracy : \" , prediction * 100 , \"%\")"
   ]
  },
  {
   "cell_type": "markdown",
   "metadata": {
    "id": "xFCPgDwE4sas"
   },
   "source": [
    "## Knn Classifier ##"
   ]
  },
  {
   "cell_type": "code",
   "execution_count": null,
   "metadata": {
    "id": "syQvjkZM4wt9"
   },
   "outputs": [],
   "source": [
    "X= data.iloc[:,1:5]\n",
    "y=data.iloc[:,-1]"
   ]
  },
  {
   "cell_type": "code",
   "execution_count": null,
   "metadata": {
    "id": "Q-IRVpjK5B_p"
   },
   "outputs": [],
   "source": [
    "from sklearn.model_selection import train_test_split\n",
    "X_train,X_test,y_train,y_test = train_test_split(X,y,test_size=0.2,random_state=0)"
   ]
  },
  {
   "cell_type": "code",
   "execution_count": null,
   "metadata": {
    "id": "WzojphcE5CVz"
   },
   "outputs": [],
   "source": [
    "# feature scaling                      \n",
    "from sklearn.preprocessing import StandardScaler\n",
    "sc = StandardScaler()\n",
    "X_train = sc.fit_transform(X_train)  # when you are going to learn only then you will use fit \n",
    "X_test = sc.transform(X_test)"
   ]
  },
  {
   "cell_type": "code",
   "execution_count": null,
   "metadata": {
    "colab": {
     "base_uri": "https://localhost:8080/"
    },
    "id": "hHYZLkwA5K_1",
    "outputId": "d6b551fc-0b6f-4900-d980-fbe5810091f6"
   },
   "outputs": [
    {
     "data": {
      "text/plain": [
       "KNeighborsClassifier(algorithm='auto', leaf_size=30, metric='minkowski',\n",
       "                     metric_params=None, n_jobs=None, n_neighbors=3, p=2,\n",
       "                     weights='uniform')"
      ]
     },
     "execution_count": 64,
     "metadata": {
      "tags": []
     },
     "output_type": "execute_result"
    }
   ],
   "source": [
    "from sklearn.neighbors import KNeighborsClassifier\n",
    "classifier = KNeighborsClassifier(n_neighbors = 3, metric = 'minkowski',p=2) # p = 2 means euclidian distance p=1 is manhaton distance\n",
    "classifier.fit(X_train,y_train)"
   ]
  },
  {
   "cell_type": "code",
   "execution_count": null,
   "metadata": {
    "id": "sHMuvu3U5NDn"
   },
   "outputs": [],
   "source": [
    "y_pred = classifier.predict(X_test)"
   ]
  },
  {
   "cell_type": "code",
   "execution_count": null,
   "metadata": {
    "colab": {
     "base_uri": "https://localhost:8080/"
    },
    "id": "ukw8q_du5OtC",
    "outputId": "b3a45475-67a4-47ad-8432-650e3ea3216b"
   },
   "outputs": [
    {
     "data": {
      "text/plain": [
       "array([[11,  0,  0],\n",
       "       [ 0, 13,  0],\n",
       "       [ 0,  1,  5]])"
      ]
     },
     "execution_count": 66,
     "metadata": {
      "tags": []
     },
     "output_type": "execute_result"
    }
   ],
   "source": [
    "# Making confusion matrix\n",
    "from sklearn.metrics import confusion_matrix\n",
    "cm = confusion_matrix(y_test,y_pred)\n",
    "cm"
   ]
  },
  {
   "cell_type": "code",
   "execution_count": null,
   "metadata": {
    "colab": {
     "base_uri": "https://localhost:8080/",
     "height": 279
    },
    "id": "Xkhs-XXm5Qt9",
    "outputId": "171dce8a-667f-4ac1-e02d-028aa5148453"
   },
   "outputs": [
    {
     "data": {
      "image/png": "[encoded data removed]",
      "text/plain": [
       "<Figure size 432x288 with 2 Axes>"
      ]
     },
     "metadata": {
      "needs_background": "light",
      "tags": []
     },
     "output_type": "display_data"
    }
   ],
   "source": [
    "from sklearn.metrics import plot_confusion_matrix\n",
    "plot_confusion_matrix(classifier, X_test, y_test) \n",
    "plt.show()"
   ]
  },
  {
   "cell_type": "code",
   "execution_count": null,
   "metadata": {
    "colab": {
     "base_uri": "https://localhost:8080/"
    },
    "id": "09XeHUIB5Smo",
    "outputId": "e00f6960-2497-46de-ca6c-71760ce1a636"
   },
   "outputs": [
    {
     "name": "stdout",
     "output_type": "stream",
     "text": [
      "Accuracy :  96.66666666666667 %\n"
     ]
    }
   ],
   "source": [
    "from sklearn import metrics\n",
    "prediction = metrics.accuracy_score(y_test,y_pred)\n",
    "print(\"Accuracy : \" , prediction * 100 , \"%\")"
   ]
  },
  {
   "cell_type": "code",
   "execution_count": null,
   "metadata": {
    "id": "vmQcczzz5n3n"
   },
   "outputs": [],
   "source": []
  },
  {
   "cell_type": "markdown",
   "metadata": {
    "id": "R_JmwPp77ntH"
   },
   "source": [
    "## Naive Bayes model and apply PAC ##"
   ]
  },
  {
   "cell_type": "markdown",
   "metadata": {
    "id": "TQDH4wtO-F1U"
   },
   "source": [
    "We want 97% accuracy for learning with error rate let say less than 0.14\n",
    "\n",
    "m >= 1/e (ln(|H| + ln(1/delta)))\n",
    "\n",
    "|H| = 761530  \n",
    "\n",
    " delta = 0.03\n",
    " \n",
    " e = <0.14 "
   ]
  },
  {
   "cell_type": "code",
   "execution_count": null,
   "metadata": {
    "id": "kg1PnMrNswFA"
   },
   "outputs": [],
   "source": []
  },
  {
   "cell_type": "code",
   "execution_count": null,
   "metadata": {
    "id": "zgSQx9rs-g_d"
   },
   "outputs": [],
   "source": [
    "# here we have 3 target concepts i.e \n",
    "#'Iris-setosa', 'Iris-versicolor', 'Iris-virginica'\n",
    "# and 150 samples "
   ]
  },
  {
   "cell_type": "code",
   "execution_count": null,
   "metadata": {
    "id": "pnJZbDl5-D2z"
   },
   "outputs": [],
   "source": [
    "m = (math.log(761530,2.718)+math.log(1/0.03,2.718))/0.14"
   ]
  },
  {
   "cell_type": "code",
   "execution_count": null,
   "metadata": {
    "colab": {
     "base_uri": "https://localhost:8080/"
    },
    "id": "gmp67IBy7o11",
    "outputId": "a9b5f792-18af-4fd0-ff84-920b90ddd1d2"
   },
   "outputs": [
    {
     "data": {
      "text/plain": [
       "121.79579076342789"
      ]
     },
     "execution_count": 183,
     "metadata": {
      "tags": []
     },
     "output_type": "execute_result"
    }
   ],
   "source": [
    "m"
   ]
  },
  {
   "cell_type": "markdown",
   "metadata": {
    "id": "ihgsS6xkdbcT"
   },
   "source": [
    "So m value we take around  122 samples for our accuracy to be 97% \n",
    "so we split the data in that format"
   ]
  },
  {
   "cell_type": "code",
   "execution_count": null,
   "metadata": {
    "id": "yYbp7yuOFwmG"
   },
   "outputs": [],
   "source": [
    "data_split = 1 - (122/150) "
   ]
  },
  {
   "cell_type": "code",
   "execution_count": null,
   "metadata": {
    "colab": {
     "base_uri": "https://localhost:8080/"
    },
    "id": "-lTtU3LSfGCh",
    "outputId": "c6ae4710-f143-4ecc-ea1f-b5ff22c09cb1"
   },
   "outputs": [
    {
     "data": {
      "text/plain": [
       "0.18666666666666665"
      ]
     },
     "execution_count": 185,
     "metadata": {
      "tags": []
     },
     "output_type": "execute_result"
    }
   ],
   "source": [
    "data_split"
   ]
  },
  {
   "cell_type": "code",
   "execution_count": null,
   "metadata": {
    "id": "0MdmIXEqGlgm"
   },
   "outputs": [],
   "source": [
    "X= data.iloc[:,1:5]\n",
    "y=data.iloc[:,-1]"
   ]
  },
  {
   "cell_type": "code",
   "execution_count": null,
   "metadata": {
    "colab": {
     "base_uri": "https://localhost:8080/"
    },
    "id": "q2cWXV65hFlr",
    "outputId": "753faef2-1fea-46b9-c645-fd012385127e"
   },
   "outputs": [
    {
     "data": {
      "text/plain": [
       "array([0, 0, 0, 0, 0, 0, 0, 0, 0, 0, 0, 0, 0, 0, 0, 0, 0, 0, 0, 0, 0, 0,\n",
       "       0, 0, 0, 0, 0, 0, 0, 0, 0, 0, 0, 0, 0, 0, 0, 0, 0, 0, 0, 0, 0, 0,\n",
       "       0, 0, 0, 0, 0, 0, 1, 1, 1, 1, 1, 1, 1, 1, 1, 1, 1, 1, 1, 1, 1, 1,\n",
       "       1, 1, 1, 1, 1, 1, 1, 1, 1, 1, 1, 1, 1, 1, 1, 1, 1, 1, 1, 1, 1, 1,\n",
       "       1, 1, 1, 1, 1, 1, 1, 1, 1, 1, 1, 1, 2, 2, 2, 2, 2, 2, 2, 2, 2, 2,\n",
       "       2, 2, 2, 2, 2, 2, 2, 2, 2, 2, 2, 2, 2, 2, 2, 2, 2, 2, 2, 2, 2, 2,\n",
       "       2, 2, 2, 2, 2, 2, 2, 2, 2, 2, 2, 2, 2, 2, 2, 2, 2, 2])"
      ]
     },
     "execution_count": 174,
     "metadata": {
      "tags": []
     },
     "output_type": "execute_result"
    }
   ],
   "source": [
    "# Label encoding the categorical data #\n",
    "from sklearn.preprocessing import LabelEncoder\n",
    "labelencoder = LabelEncoder()\n",
    "y=labelencoder.fit_transform(y)\n",
    "y"
   ]
  },
  {
   "cell_type": "code",
   "execution_count": null,
   "metadata": {
    "id": "H5ROt8hCLdC7"
   },
   "outputs": [],
   "source": [
    "from sklearn.model_selection import train_test_split\n",
    "X_train,X_test,y_train,y_test = train_test_split(X,y,test_size=0.1867,random_state=0)"
   ]
  },
  {
   "cell_type": "code",
   "execution_count": null,
   "metadata": {
    "id": "UwnGBROlLyKH"
   },
   "outputs": [],
   "source": [
    "# feature scaling                      \n",
    "from sklearn.preprocessing import StandardScaler\n",
    "sc = StandardScaler()\n",
    "X_train = sc.fit_transform(X_train)  # when you are going to learn only then you will use fit \n",
    "X_test = sc.transform(X_test)"
   ]
  },
  {
   "cell_type": "code",
   "execution_count": null,
   "metadata": {
    "colab": {
     "base_uri": "https://localhost:8080/"
    },
    "id": "wzn38rgVeqEE",
    "outputId": "f2a2be67-d03b-4234-ab7f-2629486a56e7"
   },
   "outputs": [
    {
     "data": {
      "text/plain": [
       "GaussianNB(priors=None, var_smoothing=1e-09)"
      ]
     },
     "execution_count": 195,
     "metadata": {
      "tags": []
     },
     "output_type": "execute_result"
    }
   ],
   "source": [
    "from sklearn.naive_bayes import GaussianNB\n",
    "classifier = GaussianNB()\n",
    "classifier.fit(X_train,y_train)"
   ]
  },
  {
   "cell_type": "code",
   "execution_count": null,
   "metadata": {
    "id": "MfypR3UdesFY"
   },
   "outputs": [],
   "source": [
    "y_pred = classifier.predict(X_test)"
   ]
  },
  {
   "cell_type": "code",
   "execution_count": null,
   "metadata": {
    "colab": {
     "base_uri": "https://localhost:8080/"
    },
    "id": "RPu5Y6F5eu7_",
    "outputId": "e1041423-5de9-4cb2-b8ae-55df58e2ac01"
   },
   "outputs": [
    {
     "data": {
      "text/plain": [
       "array([[10,  0,  0],\n",
       "       [ 0, 13,  0],\n",
       "       [ 0,  1,  5]])"
      ]
     },
     "execution_count": 197,
     "metadata": {
      "tags": []
     },
     "output_type": "execute_result"
    }
   ],
   "source": [
    "# Making confusion matrix\n",
    "from sklearn.metrics import confusion_matrix\n",
    "cm = confusion_matrix(y_test,y_pred)\n",
    "cm"
   ]
  },
  {
   "cell_type": "code",
   "execution_count": null,
   "metadata": {
    "colab": {
     "base_uri": "https://localhost:8080/",
     "height": 279
    },
    "id": "aZU5_tsAewqp",
    "outputId": "9fb17f86-cafc-4211-d968-ee90268e5288"
   },
   "outputs": [
    {
     "data": {
      "image/png": "[encoded data removed]",
      "text/plain": [
       "<Figure size 432x288 with 2 Axes>"
      ]
     },
     "metadata": {
      "needs_background": "light",
      "tags": []
     },
     "output_type": "display_data"
    }
   ],
   "source": [
    "from sklearn.metrics import plot_confusion_matrix\n",
    "plot_confusion_matrix(classifier, X_test, y_test) \n",
    "plt.show()"
   ]
  },
  {
   "cell_type": "code",
   "execution_count": null,
   "metadata": {
    "colab": {
     "base_uri": "https://localhost:8080/"
    },
    "id": "_-ipSYmAeyfT",
    "outputId": "9872dbbc-ef1b-4dfd-86b9-c68d7aa04bcd"
   },
   "outputs": [
    {
     "name": "stdout",
     "output_type": "stream",
     "text": [
      "Accuracy :  96.55172413793103 %\n"
     ]
    }
   ],
   "source": [
    "from sklearn import metrics\n",
    "prediction = metrics.accuracy_score(y_test,y_pred)\n",
    "print(\"Accuracy : \" , prediction * 100 , \"%\")"
   ]
  },
  {
   "cell_type": "code",
   "execution_count": null,
   "metadata": {
    "id": "VCJHeYCCe1uW"
   },
   "outputs": [],
   "source": []
  },
  {
   "cell_type": "markdown",
   "metadata": {
    "id": "7SZm-R8liCoH"
   },
   "source": [
    "## RandomForest Classifier ##"
   ]
  },
  {
   "cell_type": "code",
   "execution_count": null,
   "metadata": {
    "id": "j3xAgJSSiN61"
   },
   "outputs": [],
   "source": [
    "X= data.iloc[:,1:5]\n",
    "y=data.iloc[:,-1]"
   ]
  },
  {
   "cell_type": "code",
   "execution_count": null,
   "metadata": {
    "colab": {
     "base_uri": "https://localhost:8080/"
    },
    "id": "DmhmIL6niP6C",
    "outputId": "1d1c2104-43a5-4925-d1c3-c54d5d818ba3"
   },
   "outputs": [
    {
     "data": {
      "text/plain": [
       "array([0, 0, 0, 0, 0, 0, 0, 0, 0, 0, 0, 0, 0, 0, 0, 0, 0, 0, 0, 0, 0, 0,\n",
       "       0, 0, 0, 0, 0, 0, 0, 0, 0, 0, 0, 0, 0, 0, 0, 0, 0, 0, 0, 0, 0, 0,\n",
       "       0, 0, 0, 0, 0, 0, 1, 1, 1, 1, 1, 1, 1, 1, 1, 1, 1, 1, 1, 1, 1, 1,\n",
       "       1, 1, 1, 1, 1, 1, 1, 1, 1, 1, 1, 1, 1, 1, 1, 1, 1, 1, 1, 1, 1, 1,\n",
       "       1, 1, 1, 1, 1, 1, 1, 1, 1, 1, 1, 1, 2, 2, 2, 2, 2, 2, 2, 2, 2, 2,\n",
       "       2, 2, 2, 2, 2, 2, 2, 2, 2, 2, 2, 2, 2, 2, 2, 2, 2, 2, 2, 2, 2, 2,\n",
       "       2, 2, 2, 2, 2, 2, 2, 2, 2, 2, 2, 2, 2, 2, 2, 2, 2, 2])"
      ]
     },
     "execution_count": 201,
     "metadata": {
      "tags": []
     },
     "output_type": "execute_result"
    }
   ],
   "source": [
    "# Label encoding the categorical data #\n",
    "from sklearn.preprocessing import LabelEncoder\n",
    "labelencoder = LabelEncoder()\n",
    "y=labelencoder.fit_transform(y)\n",
    "y"
   ]
  },
  {
   "cell_type": "code",
   "execution_count": null,
   "metadata": {
    "id": "xWMVWA48iR4D"
   },
   "outputs": [],
   "source": [
    "from sklearn.model_selection import train_test_split\n",
    "X_train,X_test,y_train,y_test = train_test_split(X,y,test_size=0.2,random_state=0)"
   ]
  },
  {
   "cell_type": "code",
   "execution_count": null,
   "metadata": {
    "id": "tSPLasvqiVAq"
   },
   "outputs": [],
   "source": [
    "# feature scaling                      \n",
    "from sklearn.preprocessing import StandardScaler\n",
    "sc = StandardScaler()\n",
    "X_train = sc.fit_transform(X_train)  # when you are going to learn only then you will use fit \n",
    "X_test = sc.transform(X_test)"
   ]
  },
  {
   "cell_type": "code",
   "execution_count": null,
   "metadata": {
    "id": "XpYCrsD-iXG0"
   },
   "outputs": [],
   "source": [
    "from sklearn.ensemble import RandomForestClassifier\n",
    "classifier = RandomForestClassifier(n_estimators = 50 , random_state = 0)\n",
    "classifier.fit(X_train,y_train)\n",
    "y_pred = classifier.predict(X_test)\n"
   ]
  },
  {
   "cell_type": "code",
   "execution_count": null,
   "metadata": {
    "colab": {
     "base_uri": "https://localhost:8080/",
     "height": 279
    },
    "id": "Kk-ZdbjSixKf",
    "outputId": "b737a547-dad6-4289-ba6f-d29a1c80da3e"
   },
   "outputs": [
    {
     "data": {
      "image/png": "[encoded data removed]",
      "text/plain": [
       "<Figure size 432x288 with 2 Axes>"
      ]
     },
     "metadata": {
      "needs_background": "light",
      "tags": []
     },
     "output_type": "display_data"
    }
   ],
   "source": [
    "from sklearn.metrics import plot_confusion_matrix\n",
    "plot_confusion_matrix(classifier, X_test, y_test) \n",
    "plt.show()"
   ]
  },
  {
   "cell_type": "code",
   "execution_count": null,
   "metadata": {
    "colab": {
     "base_uri": "https://localhost:8080/"
    },
    "id": "MU3RBGofizuD",
    "outputId": "eb8b51a0-b9c6-4dd2-ea5d-56e4c3d378a4"
   },
   "outputs": [
    {
     "name": "stdout",
     "output_type": "stream",
     "text": [
      "Accuracy :  96.66666666666667 %\n"
     ]
    }
   ],
   "source": [
    "from sklearn import metrics\n",
    "prediction = metrics.accuracy_score(y_test,y_pred)\n",
    "print(\"Accuracy : \" , prediction * 100 , \"%\")"
   ]
  },
  {
   "cell_type": "markdown",
   "metadata": {
    "id": "wuVims-Ci37b"
   },
   "source": [
    "## Ada Boost ##"
   ]
  },
  {
   "cell_type": "code",
   "execution_count": null,
   "metadata": {
    "id": "MvoaQt_Hi1H3"
   },
   "outputs": [],
   "source": [
    "X= data.iloc[:,1:5]\n",
    "y=data.iloc[:,-1]"
   ]
  },
  {
   "cell_type": "code",
   "execution_count": null,
   "metadata": {
    "colab": {
     "base_uri": "https://localhost:8080/"
    },
    "id": "UsEj3WdajPgv",
    "outputId": "568beb8f-a05b-4dc4-e560-d223d512130e"
   },
   "outputs": [
    {
     "data": {
      "text/plain": [
       "array([0, 0, 0, 0, 0, 0, 0, 0, 0, 0, 0, 0, 0, 0, 0, 0, 0, 0, 0, 0, 0, 0,\n",
       "       0, 0, 0, 0, 0, 0, 0, 0, 0, 0, 0, 0, 0, 0, 0, 0, 0, 0, 0, 0, 0, 0,\n",
       "       0, 0, 0, 0, 0, 0, 1, 1, 1, 1, 1, 1, 1, 1, 1, 1, 1, 1, 1, 1, 1, 1,\n",
       "       1, 1, 1, 1, 1, 1, 1, 1, 1, 1, 1, 1, 1, 1, 1, 1, 1, 1, 1, 1, 1, 1,\n",
       "       1, 1, 1, 1, 1, 1, 1, 1, 1, 1, 1, 1, 2, 2, 2, 2, 2, 2, 2, 2, 2, 2,\n",
       "       2, 2, 2, 2, 2, 2, 2, 2, 2, 2, 2, 2, 2, 2, 2, 2, 2, 2, 2, 2, 2, 2,\n",
       "       2, 2, 2, 2, 2, 2, 2, 2, 2, 2, 2, 2, 2, 2, 2, 2, 2, 2])"
      ]
     },
     "execution_count": 208,
     "metadata": {
      "tags": []
     },
     "output_type": "execute_result"
    }
   ],
   "source": [
    "# Label encoding the categorical data #\n",
    "from sklearn.preprocessing import LabelEncoder\n",
    "labelencoder = LabelEncoder()\n",
    "y=labelencoder.fit_transform(y)\n",
    "y"
   ]
  },
  {
   "cell_type": "code",
   "execution_count": null,
   "metadata": {
    "id": "RiD132LwkL1T"
   },
   "outputs": [],
   "source": [
    "from sklearn.model_selection import train_test_split\n",
    "X_train,X_test,y_train,y_test = train_test_split(X,y,test_size=0.2,random_state=0)"
   ]
  },
  {
   "cell_type": "code",
   "execution_count": null,
   "metadata": {
    "colab": {
     "base_uri": "https://localhost:8080/"
    },
    "id": "yN_DZbUljRXK",
    "outputId": "e694a0a6-1743-48b6-add4-1f0732c04f63"
   },
   "outputs": [
    {
     "data": {
      "text/plain": [
       "GaussianNB(priors=None, var_smoothing=1e-09)"
      ]
     },
     "execution_count": 215,
     "metadata": {
      "tags": []
     },
     "output_type": "execute_result"
    }
   ],
   "source": [
    "from sklearn.naive_bayes import GaussianNB\n",
    "classifier = GaussianNB()\n",
    "classifier.fit(X_train,y_train)"
   ]
  },
  {
   "cell_type": "code",
   "execution_count": null,
   "metadata": {
    "colab": {
     "base_uri": "https://localhost:8080/"
    },
    "id": "MBMZwRyyjTCA",
    "outputId": "4b6f0aa5-9cdf-477a-8d49-d0258eadb3a0"
   },
   "outputs": [
    {
     "data": {
      "text/plain": [
       "AdaBoostClassifier(algorithm='SAMME.R',\n",
       "                   base_estimator=GaussianNB(priors=None, var_smoothing=1e-09),\n",
       "                   learning_rate=1.0, n_estimators=100, random_state=0)"
      ]
     },
     "execution_count": 246,
     "metadata": {
      "tags": []
     },
     "output_type": "execute_result"
    }
   ],
   "source": [
    "from sklearn.ensemble import AdaBoostClassifier\n",
    "Ada = AdaBoostClassifier(base_estimator = classifier, n_estimators = 100 , random_state = 0)\n",
    "Ada.fit(X_train,y_train)"
   ]
  },
  {
   "cell_type": "code",
   "execution_count": null,
   "metadata": {
    "id": "7yeU2LNijqF_"
   },
   "outputs": [],
   "source": [
    "y_pred_ada = Ada.predict(X_test)"
   ]
  },
  {
   "cell_type": "code",
   "execution_count": null,
   "metadata": {
    "colab": {
     "base_uri": "https://localhost:8080/"
    },
    "id": "_LNbggIyjwxS",
    "outputId": "5d69ec9a-d599-4494-b849-6f8a6f54d017"
   },
   "outputs": [
    {
     "data": {
      "text/plain": [
       "array([[11,  0,  0],\n",
       "       [ 0, 13,  0],\n",
       "       [ 0,  0,  6]])"
      ]
     },
     "execution_count": 248,
     "metadata": {
      "tags": []
     },
     "output_type": "execute_result"
    }
   ],
   "source": [
    "# Making confusion matrix\n",
    "from sklearn.metrics import confusion_matrix\n",
    "cm = confusion_matrix(y_test,y_pred_ada)\n",
    "cm"
   ]
  },
  {
   "cell_type": "code",
   "execution_count": null,
   "metadata": {
    "colab": {
     "base_uri": "https://localhost:8080/"
    },
    "id": "cL2qKW7kj0hY",
    "outputId": "1655ee1c-9317-4d44-ef2e-33964d0477b8"
   },
   "outputs": [
    {
     "name": "stdout",
     "output_type": "stream",
     "text": [
      "Accuracy :  100.0 %\n"
     ]
    }
   ],
   "source": [
    "from sklearn import metrics\n",
    "prediction = metrics.accuracy_score(y_test,y_pred_ada)\n",
    "print(\"Accuracy : \" , prediction * 100 , \"%\")"
   ]
  },
  {
   "cell_type": "markdown",
   "metadata": {
    "id": "NoLUsh5QUhN5"
   },
   "source": [
    "# ![Accuracy.png](data:image/png;base64,iVBORw0KGgoAAAANSUhEUgAAA0cAAAExCAIAAAA4PE4hAAAAAXNSR0IArs4c6QAAAARnQU1BAACxjwv8YQUAAAAJcEhZcwAAEnQAABJ0Ad5mH3gAAAAhdEVYdENyZWF0aW9uIFRpbWUAMjAyMTowMToxNyAxNzo1NjozMPoYG1cAADrYSURBVHhe7d29bhTJ24Zx/B7GCiG0cAwECDsgMBzABpjIkSUTr3BC6MRoY1ty5AgTcADggAAjBxyDQQghToP3Yu5y/YueDwaDcbt9/aSdrar+7pl+5qmuHrzw9evXK5IkSbrg/q/8X5IkSReZWZ0kSdIQmNVJkiQNgVmdJEnSEJjVSZIkDYFZnSRJ0hBM/pdNFhYWSkmSJEkn+vxPwk3N6vx37CT1hBFJUk/0PBw5AitJkjQEZnWSJElDYFYnSZI0BGZ1kiRJQ2BWJ0mSNARmdQP3/PnzhYWFmzdvlvqJtH/48KHUv5eprTLhBAuWCSfKhBOl9cSjR4/KhBFanj59SuH+/fuZoYN2pjIP5dES/8OkTEXdjaytox7F27dvS5OkniE4cJF2QkSVqTEexwgFZdpJ0EDCApd/qhWNNVCMh7iJUSLrnxheML71bLpzLEwa33PpjJjVDdze3t69e/fev38/f2ZDAFpZWWGRryf29/fbqESMu3HjxtbWVpn89ev6+jqxrLOJOsPh4eHOzs7EqP3y5cs6D1VeU6U9M8yDndnY2CiVBsfOpFKR1EsEB2IUr6XeIKocHBwkJmBzc7MGouRPFMq0r1/v3r1bE7s51ShHBFtcXOxEMDbx6tUr9m13d7c0nZi29b///ptVcSzMkDlZJythz1OVzlz5SH5vWrsuFmIWbyWvJDfEmtI6QqKWSaV+gtlmv/tZZ5vSBbGPrZTK6CPUzjN7KjpZXTDP+M6wKqRcd4ZXjiiNkRVmUme1unDGPwYaBi5bIkMu5M4lPDsWdUJKa+LaQGMNO50AODGsUWUrE0PTD7de4+2MOXVB8f6WUi95r27IXrx4QUyh+7i2tjaxK9xB/5LZkglNwzp5/eeff1KtVldXCWfz3xH8ja5du8ZhPnnypNRHnj17RuPt27dLXVL/7O3tEZ2IUVytlEvrj2LRn7kBtru7S1i7c+cOaRnxpLT+aOscC7ud23WZsz0u6ayZ1Q0ZUenu3bsUktyMP2jS8e7dO15nZ0IfP34kxhG5Sv3E1atXef38+XOqLbZLaCN2l/oZIKVrc8p8JRCRU5XUQ1ynRIYEHCIVZVoy6cuXL7zSYUu1I3EmMee3yPMhbWeVYEJIuXXrFuXl5eW2V/zDrT9+/JhXOsBkfmSr5IVpl/4As7rBSlRKnEp3c84u419//ZVC+5xyfWClht2OulS1sbGRZfOUXiLdKWQlFaG/TGh0+tPEU6oPHjxIVVIP5TpN0pNIlaEAzM6cPn36xOt4zPlZbD1RhfLXr1/bzmpu9qfl4cOHvNZe8Txb39raIgASrDpjCNJZM6sbLKISMavGqbW1tbYrPEN6ydje3s44/fr6+vHxcRqnqUtVxLUsTnniTyXmlJVUhNoy4XsZZc4B7u7unumtQUm/jut0eXk5ZSIVl/b47xLOFL1NQsr+/j6xsTOUQTDJQAd+qlcc6cR6o05/nlndYBGViFnpiSK/Eq1d4Yky3HB0dJTqREQ6VlsqjfSts4aOBM06PHpGal+f6FxvUkrqpwwmEKZKhBrdhqclgWJ2LMqgbZ4YmVP6exOHdB88eED61d5US4ZXRxvAjtVe8ZxbbzvV0h9jVjdMiUpEotzfih92hdNdnvivhFTTHtEjJrLsxChG0CTAnfWjzWx6fX2dA6RLTcF4KvVZBhNKbDqRdl65fpk6LV7lBti0m2dZ9s2bN6U+ksGEid1O5MHcGtZYM9Gs7NMIU2lPr3j21qXzZVY3TIlKncwmt9lmD8LmH4qjb9rO1paJaORMKysrbWJ3//591ry9vV3qY+Yf//0VDx8+ZDfYUJ6DkdRbOzs7449JELUODg5SpsDl3P5LmW/fvq3Vw8NDrvT2H6gjItUqfUjWX2MUkWdxcXFGZ68dY2Vm1tz5rVUyxdevX6c6e+vSOTKrG6CJUQmd55FBnMr4Auq/n07HdGtrq510PJKpIHvb398nsSuTJz1r3DG+6bOQ0Ix0piX1U/Kt8cck2n8giXhCVKFQoszCAlNrIOIaZyqBrkxbWCAnq/96+YMHD0i8aowiJhCyZnQ7UXueCVPjv7Vqu6azty6do4VcNh18Rie2S9KfZ0SS1BM9D0feq5MkSRoCszpJkqQhMKuTJEkaArM6SZKkIZj6a4lSkiRJ0ok+/1rC38BK6jsjkqSe8DewkiRJOnNmdZIkSUNgVidJkjQEZnWSJElDcFGzups3b87+U8pPnz5d+P5P1F9Qz58/b/++NUdUf6F8cQ+Q9y5v36NHj+rhnIV8DEplDFvPX7/llXIaf4gVzjNz3qn613XrnvCGUshfuuR1xu7Nxj60H4xf1+5YsH5awLGc9Tsl9VAuCnS+bnLlDuD7RcPzJ7I6rodcGFX7zXFRlF0fU7+2z8iTJ0/W1tZKZfRdvr6+ToHt3rt3L39QP9+4rXnSjp64ceNGKf1ZfAh3dnby98U3NjYePnyY9qgJTfz2d/mvv/7i9c6dOxz+7JUnO6zyZ9H/APbq/fv3X0fyMZPORVKoavzro0wYmXE1TbyUOiuvkrGtrKwcHh5yCRwfH7eX3uLi4v7+vteF+ihRu2Na++mQfKBUvn7lYmD9pCalftFsbW393vMzAwGFbdUv11oFhYQbcDJJDlL+KayEwymVP4jt8jGgwG6f6SdhxpvFZzKb5vWHn0/2Mzt8au3m2jeLPZzx3mX/203XPems57f7dtE2p+V8TXsTNXgJevUSyBVRQ1+mzhPEcl3PcxXXKysrr42o5f5cGvrz6qeinybv3O/d6fGvh/kvsB6akSj8doSP9pubajadfajZXme2+bGSeQLi78UWx4PmGZn2ZiUtzrFTqPG6bf+NcqR5vyjU7yRkUttSzd6ZU7/pcxq/bM8R56GUdMmMX8JU63cHl0C9eGebcSm12ouuDVBsJRvKl1cadTn1/ANwPs/VPXjwgKtxb2+v1JvHF9B5gqGdVO+uf3ssq5mtTG5myFLtcw/tmFp7l54yk9r78ON3+H+InXk0wuL1aafODf80VqV1pN3P1sHBwfLycqmMcN5K6cqVee7/szMcYHYMdd9yfihsbGy07ZSZRJUCS6WxfQuQxqDK6Zq2/vZMshu0UNjd3c1bv7m5mRA5UbvR9r3+4fuVnUe71ETXrl1L4fr16yn8999/vD5+/DjViVh/PTMU2Eq7q+1bSTWftGfPnvE9wftFle+GO3fuZAakfHR0lGprnp2pcnqj7h7aDyH7WVonXTI5pbxmkVcjFHIas/7MGVSretRZtr47deXS6eQirdd4PsNXr17llQ8bSVjn2YmJsnget5itvehybWZZQvHS0hKFjMlSkHqqZHffm9Z+OhM7/Xy31a10emMkLnX+fOvXOxlMyg2Pdp1td43GzJAFUwblOn96Y3WRbJ2VpNru2ESdvQ1W3q4TnXsw7WqzA7W7mRXWXW3RztRSmY6V1/3voL1dCeV2J8fXTwvqviG71zmQ9sSiroTN1fNMe7ut9m36IXagrgftJrI/094vlqqTMmc79Yfa/Z+mPZBsvS7Sbh1Mqrs9Q7vCVmdtHSxSp7KVuobOp6vdhzp/u0W2knez84mlHSkjJzPlGR/gTEJdz2/BCktJl0+uMl7zSasfPApp5zWmXS9ZsJ2z/Wy3mFQvDWQTdX5e26m6nPg8lFIvTd6537vT374cxi6hXGApU6gXKnIh5Uui/fppteucOE+7kvYLKdqWztTOd9u48bWBnekEFFravWq/CGmvOx9MYrWlcqJdZLaczFaZMHZyKLf7yZyd7dLSzo+J89SWztT2tGev0v7DszpbezLZXF0t2jWPn7HOzD/Unq6srao7385DoT2f7eGDcufUTcTRdT4PwZontkdn0y3ap71B0R5C1XmPOnvVnkmW7exY3UpO2jxH/VPqpnU55eOH9oOXy639sHVmqLJ4jQz5lI5fApmtXr8dTM0Vx4LMhnbTujx460upl87zXzbhCuE1YzcrKysZsgHl0fRvuMDq6Ng0m5ubOzs7LNgOMLU+fvyYbVW5q1+HjVr5ceLnz59TnV8dfIzj4+PsVbQ7wHYztlWVCd/78uVLKc0h4aYqrWM4mYloM7QnPKeojlQG2+KUlsr3MjKSPc/ISN6Uo6MjlmpHHn+oHVLkdE18s9C+X+/eveP11q1b3yacVt3Q33//nZOZMzbPR6I9/J/Cp6WUTqsOgoMdrm8QXzwZZK9jWPjhJTPbDz/AnQ+M9Cv4gO3u7uZizAevjQbtuCqfdmYolTEPHjxIgUubzOzg4CDViq2QFE58soUtch2xCNcR107CAi3T4pJ0Xs4tq+PyaNOg9v5KzPPQWHCtMj/Xc1LD/lxm433BGlbGO5Tjj08lX7m48s925BE6wmX777P8EDkKEZO4mZPD6SoTztjy8vKMb4Wz0+kSxPw7c//+/XzTRNuF4HNFCx/FxcXFmn79+iUzzwdY+nV8tvk8124PnzSq7ZOj83eiZn/O6eEQcJ48eVLq3+Ni5HrhW4kOasIRZfYkPUmpP84nq6O7w/WzurpKOdnbp0+fRlO6uGym3RbqyLcXhRcvXqSlGr9Blc3NnzieAt/T04II253n3szsM/NbtF//E03cB07mtBuouaFV89HNzU3ykoTLeR5Vrjh1JCI/+waN3yqb88NT5f7iH37Gnw/DxCPN09nz3E5jDXzllMok29vbuQTatc24ZGab8wMs/To+aZ1fjNUuUO7KtzfRx4dl4vbt27y2kYEI0+lKkc+x7MTxBJJIZrbfogvhHLI6vlcWFxf5zq43rihvbGzUESIK9deLa2trOzs7ddJ4qtRenJltfPQn+UTt3jEbm5v9LfjryFlJaNr8oN4pIXXgK7btbo4fV8yf1J7a69evS2mKvDt19/LWtAGOqfUwV1ZW2iGMvMWdxnkwM+97yqx8zltWuTuY3gJYsK5kTqyBDwZHdLqbAaczLUvm7HHyOXttKsb5H8/z+Pzs7u6mzJ4ngUN7KeWmAonvPJfMbPN/gKVfRErHVVw/XXxiiQZ3796lTJQgsHCB1EnMSU8yVT75NeR2IgNXECtpb8uxLB/pumwrq3358mWqJIgJR+wSi/zi8x7S7/dt7GTMtPbTyf3qFhdDmXaizbG4/ErrSDuJchpZJ1KeOEPnuXVkhmgHfLN4qZw8RDU+Ilx15o92f6o8fl61O5OtVPUR9Q6+1DtnYyJmKys6UXeGxZmaMjo7X/ewzk+5nsMqS0Vnf2hhKotn6vhJyL7NOJ/TsKG6TlZS19w5hPH3a7TQNyyVj0GZ8DOyhqpdf3tKKbQnpPODA8rjJ7Ojs8i4HEJV96Sz6TJ5dNQ5Y2mnUCY0y7ZvaN3Dzp6wknrOMfG0V3WpH14+p8M6S0mXT/sZRufTVQMF2uuITy8tpTKSeaKNxhifuaK9s8W6Pz+8ujVIvPWl1EsL/JcPaIsuzsR2/WF0ExcXFwlAP3Wj60/io0JomzE28fTp042NDT9O03B+dnd3HdCczYgkqSd6Ho7O8zew+qEMHPzsY0+9QkrX6Wqr9bO/I5EkaRqzur7b3Nysj0xdOHkCbJ5//P1yytM8PoUtSfotHIGV1HdGJEk94QisJEmSztzUe3WlJEmSpBN9vlfnCKykvjMiSeoJR2AlSZJ05szqJEmShsCsTpIkaQjM6iRJkobArO4iuXnz5qNHj96+fbuwsDD+J96H7enTp7/3p9njp5FzS0saQYF5yjRJl0/iAO7fv1+aRhI9Pnz4UOpSb5jVnYOECdKUUh9JxlYqU7R/Uv3q1aul9AtqHlOVCeeq7MpI5yydHcL0zs5O/jr4gwcPSquk85YUqiqtjTJhZEbEIAkrM42QsdHYWXmVjG1lZSUx4fj4OPPH4uLi/v5+b/88ty4zs7pzs7GxUUpzI7hsb2/fuXOHAq+l9dfcuHGDtQVlkssy4TykZ7y1tVV26OvX169fn1Fil9NYE7ijo6M0pko7U3/XSZZ0OmRdSaFG8aAbo5KTtRFj2t/fI7awbF0Pcu0nDrTW19eZk4yNlWcGXpeXl9+8efNtRaPO8L179+z7qZ/M6s4HYYjXH96c+8M2Nzffv39/jsMK9IwJqW1cfvnypX8mVbq0CErkWDWF2tvbI0bV22arq6udiDENsYWo+8NUjOi3s7OztrZW6mPYNDMQl0pd6hmzunNDiCE6TEuhctcq2kc66uNl6aSmNxlZpK6Qpb4tPFKD4M+iW1xW0WyLcpuPskVa6iam7TlK65RRkjT++++/qc72s1upZ6PO3O42h5lbp5mHwvjpnXgqQJWVZGrf0nTpojs+Pl5eXi6Vkztnnz594pVLmAzv4cOHoymz5IL9559/Up3hv//+4zVpYraVZQ8ODpaWlihkTJaC1E9mdecmgWNiHkCWQJe0jAd8/frq1avxNIiIQxf22bNnpX7lyps3b+7du5dHPUgyKGRxYhCRKOnLbE+ePKlrACupu0EOuri4mHY6x+SjKePFixe8phPMfrKtLAIics2iWBsLpv3169fj6ezHjx95nedRlRnnZ+JWOMnsSRrv3r07fiqYmrunmSeNLTI2uu+Zur+/z6loEzsOeXNzk0nb29ulSdJv0okVxL3Einfv3vFKDPzW0xrh8h/N0pXnK8jYynxjXcGKyEYAKZUrV3KxMz9rJsSxFFOT7Un9ZFZ3nggZZCRtfhCEj/YOP5lWolgHeUabXVFeXV2lQNZCF7ZmGMQg1kAalGoHcybMgTKJXZkwynVq/Lp9+zavCa/pHNfcaHd3t8bBjY0NDiplkOtwgOMJHEc3nr0xG/G6VGaa8/xM3ArJ9A9HYTpIGdmxOsrD4p18msP/2XVKmgdRrg2SCW4px/Xr19PdApOmpWtYWlqqs7HO8R51OoftcAHXdRYhmDCVkEhcZcEEzNqZlPrDrO48JT9IKtZBvEjgwMTECBlQSLzLa3KLDE+UhUdYAy0TsQMJW0jHtA1VZfmFhdyo+/LlC6+5TZg0kR0jRCbPy06urKyUZRYWKNMSZHjknTSO3yo7hWnnZ+JWCNPsJI2nGyElZcziFdUybYTvlVKS9FvRm6LXlBtmIOwQfNorrh1X3dramhHrateLzh7rPDg4SLWig9oOVrSIMHRZWYRIS4QhWhIEaJkYmaVzZFZ3zghSRIdOokPyQbygPckWgaZM+B7Rh0m5acRrvWEWWbZqb25NQ9RjhYQ2ykQrYijrzOKdR0nSgWaeFy9eEGTbIQlSwyxSJUqm10vYTdo3Hg3v3r3LIc8TJWecn4lbYQdo5BBOnVa2uW842Cr9GVxr5aobxTEu/GvXrpVpJ13NecyOLbkL2A5WtJaXl4kqRJKjo6MEHMqEhYwCS/1hVnfOMjzaCSVEH9KpJEOzra6upsfJa31qOCFvnvRohsTKab9dyHAkKR0pYP29WHY4dwqnYUFCM4U8jdfKIO94+7gfnp+JW+FU08jZnjYYPc3169cJ96Ui6fykS5a7brdu3eL18+fP3yaMfPz4kUyrVBqJLW3+RwzpPIRHEO50UCu6kcxcn8GQeu1b92fMtHb9Fpxeun2lMrqTP3orvj2elZbcdUuZOSmTi7TVlIMqjZ2bSTS2Laxw/BYaaG9nyyNx2bfsVd1Pysg/yBnZSTBnaTpprLNRyJ4zT91QbvtN3J8cXd0oWGGqmVQbaznts7dCY91JGlmcQg6w7ka7fmTxHEjmrG8BKGcSmNTusM5C+9bo0kqAakMHV2L9bHQCSzsJBIEaHLKeegmjs2wrk0qlqSYs1MCiy6P9PPTQ5J3r+U5fdJzeTh6QlCLZRhCAaAGxifaaUnSSDyTFGU8s6howLe3Isq02riX2xbQ4WHesyh5GDaNo26ftD7Laqs6ZxVPG7PMTddl2nXXO+bO6+LbwifYsUa0b0hnhJJeSLpn2isZ4FtUGuvaC5UqnpVRGMk901jM+c0V7e72jhk0v/MuJt76UemmB//IBbS0sTG6Xqg+jn6wS7+ozyNIZMSJJ6omehyOfq9Mp5Z/rNKWTJKknzOp0Sjvf/3OdkiTpfDkCK6nvjEiSesIRWEmSJJ05szpJkqQhmDoCW0qSJEk60ecRWJ+rk9R3RiRJPeFzdZIkSTpzZnWSJElDYFYnSZI0BGZ1kiRJQ2BWN3xPnz5dWFj48OFDqc+HRR49elQqg3Dz5s379++XiiQ1nj9/TtBDJ0q8ffuWxp+Nn9J5Mavro8QRXktdkjRmlIZN+He4yMwyCaRrpXUkvdxoO64rKyuHh4dfv349Pj5uF1lcXNzf3//7779LXeo3s7rhe/z4MaFqdlQiCHZ6qCyyvb1dKoNAsH758mWpSLrIkpyVyvdu3rzJKxEMJGSkazVLI43b2NjIpPfv3+/s7CSxSxf6zp07vC4vL7958+bb3KP579279+DBg1Sl/jOrkyRdJCRhJGdkbFtbW6XpBAkc6VrtkZKQkZbt7e1R/vDhA2kcS2USHV0WpyXVcayKqXYFdbGY1V0w7fBBuqRVxm1b6YYSmyjX50Lq2ERuztFO+dVI2jMnK2+HJ9rttsMTFWtjfjBD3bGsvEpjtCuMrJY1sKo6NTMj1ajHgmwR7dloV16axu5H5rRUpXWEVbGGiWuWdO7u3Lnz9evXibfQ3rx5c+PGjXZo4u7duwQ3Cu/eveP11q1bo+Zvbt++zSuRM3fpcsfu4OBgaWmJQsZkKUgXiFndRUKeQQ+VnmhGEMg2ajpCopPnPzKJFrqh40OorOH4+DjzEOzIbAh/lOnOIu3jY7WkOO12CXZlwvfS62UGNkGBEEl4zaMqWF9fr3vLdusKEzd5rTGaEPz69essRTWpYT00jovVJrFjx9ho2jc3N6nS2Fk5h/xtpd9jzvoYDbJvbbLIGq5fv56prGriSiT1TXsVt2j/9OlTqXzv8+fPvBJhCKHpxRGL6AESFpLtSReIWd2FQVTK8EHNupK05RZXuqE1MSIekRilPM3jx48ndnbHkeKQS9Xtkuik0EGy1eaRpFltWPz33395zd7SnyaJzAqZgQWPjo6+zXSiHfX477//mLnuKrvN64sXL1KtmCGTWqx84tOBOaK6b5mnXSd7XtdGme57ypJ6rnNz/dq1a6U00vZa//rrr1IaBZD04gg+9PromhIW6g379Bil/jOruzC+fPnC69WrV1NFwlM6oBlWSM4E8r+7d++m3CK1ev/+PUFq/ptP6ft2IuNEnWBKWGQ3EhNB6lYmXLmytLT06tWrrPnt27fsUoZCop0TzFZHh6NMOMnwaGmHVonOrAHTRk4nHhHzf/z4sVS+d/36dfawVCT1W8YKqs4tulz+kaDawQz0+ujIEZoyFMDlT0u7oNRbZnWDsrKykrynvdXUIhEkSB0eHibfqlngGWE3Rr3f/2nvDpJIsQ8ZOJ490lFHh6t6dJSJuUn7an86o8w/m79KuujaW3Et2qd1TduuMpaXlzM0cXR0ROShhTLBKuMhUs+Z1V0YGSzIIyDR3nN68eJFm/pMHHasSKGYh/nz0zBMC4XIpGmPpMxw8+bNab1btkvczK6iTfXGsQOdzncHM7ASMsjd3d3SNEIjWyF/LfUTE4+IFPD69eulIuliWlpa4lpuI8/r16+TnGVAo03O8uBH26WkE0jgmtglli4Es7oLg1yE2NT+UoE+JT3IpETkdp1hyokPgrSZFvMnvwmqpTSGhKkdgGDlKcy2urrKOtvdqAuyXVY42s0ivz6b6OHDh4Tp9pZbPYr79+/XBQ8ODjLkypz1HiQBnVOUcqtzRBnANZRLF13iYQ0XxB+i0JMnTyh3QiihgyBAxy9VZMi1PtR7+/btREUCBSGo/fGs1F+jeyVd09r1Z+Rnoa06lEmhNH0/LplFSmU0+Eg1vxvllTItlNs1t4ujtJ6shGSobhTtdrPaDtbWWSE6B5J9AJG0nbndQzbEptNe5XAqVjve3i5VmkZK09gettG8s8XOsWfOUtF58PyrNR4h0cal0jRSw04QBMqEsVA23lLjHkGgNOnS4/NQSr20wH/51LYWFia3q7du3ry5vLzcDrzSsra21sP7T3R8SZuInnXgNS1E6tlP1+nSMiJJ6omehyNHYAeCHK791zeej/6B9faHpf2RYd/6N3nw33//8WpKJ0nSr/Be3XCQ2LUjkpTbx+Z6JTfnSmU0ADr79xC65IxIknqi5+HIrE5S3xmRJPVEz8ORI7CSJElDMPVeXSlJkiTpRJ/v1TkCK6nvjEiSesIRWEmSJJ05szpJkqQhMKuTJEkaArM6SZKkITCr0+93f6RUfoenT58uLCzUP8aPmzdv0pJGtkW1TJCk3+T58+eJM52A9vbt2wSfUpd6w6xuIEZ51P/iTtIgQhJlQs8oLpVqRQuzpVyDVxunErl4LfUxmaGaMefvxW7Xv9jd27+fIem36MSZ0tooE0ZqTBtXI2EkHnZWXiUSrqysHB4eEmeOj4/b+Lm4uLi/v2/wUQ+Z1Q0QcWpjY2Nra6v++fx48uRJKU2XP8k6j0ePHhHaEvKC6hkldo8fP2b9NYa+fv363r17KePly5f+wTFpkAgpSaESZG7cuNHemE9ORqzLVBAryrTvkZOxbF0PEh7v3LlT6ifW19eZk2iTaJa/T728vFz/dDWhj/jTia5ST5jVDQ1dTIIggakT3Qh879+/n9GRBfPs7OzMk5kxD3MSIts/yU9A9C/0S/qNNjc3ybFqCrW3t0ccq7fNVldXx2PdRCsrK+Md3XHETyLb2tpaqY9h08xAT7LUpZ4xqxsa+pT0I7e3t0v9xLVr1wh/GxsbpT7JP//8QwAljJb6dJ1QOxtd2wxqoE0r08+ONpUsTWMDxARcUHg1QiGDzqy/7b5nnqq0nmyubrQdT5HUT8fHx8S0Ujm5c/bp0ydeudLJ8B4+fDiaMkvCC/Et1RkyWJE0MdvKsgcHB0tLSxQyJktB6iezukFJljOtH/nvv//ySg6U6kSkayRMP8x4CLVz/kCBzV2/fj1DG0RD0spESSJyO7BCnzvzs1qyzzS+fv2a2dIef//9N+2kraAwfqSsnHSzjguzKhK4Mm2EjeaZPAdQpAuhEwS4wD9+/Ejh3bt3vD579iz9NEwLSkdHR7ySsZX5xn79UO3s7BA0SuXKFQIUEYP5WTMRg6WY6oiE+sysbjhyB6vt13aQEmWMtRMlW0QuEqYfPoFHYjTnk8Lb29t1fCTR8PPnz6m2Jj4YR9I251YqstI27CaRbZNUwvTPrlPSeVlbWyOspSsIrmWCT8pRO41g0rR0DUtLS3U21jnev83gQIJGEA+zCLGIqYQpAlodfJj9QIt0LszqhoNsjJSFpG1GrEmCNft2HSkdUe83BizibIIgqGb0hNSK9GtlZYXGNsskLeMQaDzdCClhN4sH3foy4cTVq1dLSVLvEbIIFLlhhr29PS5qMrky+ftxVXqtpGulMqbenk/wOTg4SLXa3d0lik7s9RGjNjY2WIT8kgiT1JCWGT1k6VyY1Q0KYYtoVUc5JyLza/u+4+7cuZOVlPokxL7xmDjRzZs3ybTS30VpHaHXSwurIkzXoZN0jonO4wnfnNj50ab+p0ZzSRdOAkW8fPmSdOratWtl2pUrX758KaUfmR1Mchdw2jDF8vIyQYmE7+joiJBFC2UCV0aBpf4wqxsaIiBBh65tqY8hxSEYzf5JRMYgZsxz9+5dIuCM1LBittnbIkwfHh521kYHnQhO4cWLF2mZE9mhvWdpqHILP/20W7du8do+0fHx48fx2/O4ffs2r23+R5ToPIRHPseyE5+ZezT6PVZ9kkTqM7O6AcpvCGY8X7K3tzdjnAJ0Q2ePZRDgkju2qRiBbzzPI1CyuZTbXSI614HgPMv8119/taE2q2o75fNYXV1lt9vh44VJ/2yppAuHoLGysrK/v58qYYooREuqRIydnZ3ah8yDHymTqxGI6k+yWA9Ror0tx7LT+p9ZbYIqSBATGAlWLJLMUuoPs7phOjw8JPRMe34uY6ylMgV528Reb0WYI/Orz7uA7G28p3twcMCeZIa7d+/WddLbJiymfWNjgx0mRmNtbS2NrJn1/+zgKfPnl7ZZCYi8ZZqki4YeWrmSFxZI4Lic25hAFCKkZCoRg2t/WsQ4Pj5m2cyZ9bTBKvncxGVZbc0jkeDJSthuxmTLBKkfFjLO1cFHdmK7JP15RiRJPdHzcOS9OkmSpCEwq5MkSRoCszpJkqQhMKuTJEkagqm/liglSZIknejzryX8DaykvjMiSeoJfwMrSZKkM2dWJ0mSNARmdZIkSUNgVidJkjQEZnV9lz+W+vz58/w9RKplwiV28+bN+/fvl4qkiyB/bj/RrDSNPHr0aPblzCJv374tlT+LHZu9bxcI53naXwbXkJjV/SFEpUS0NjzVjK3UJ/ny5UspjfyWPyZNVpSdicGErVMrJ+LExHckJ23am8U5zLLwfKq32g8qHcXSeoKPd5k2MrEP2f65/ajrqVGuqtcCaz4+Pv769evh4eHKykoaQfvOzs7Lly9LfQwrv3HjRvuX+C+VnMZSOdG+BcSl0trIDPV9iYcPH3KqvS8weGZ1f9rm5mYpzYdwRih88ODB48ePf+OvqdfX11kb3r9//+rVq4vVh+PrYcbXwOlsbW3lhOzv7/Ot0wmIfF1xou7du7e3t1eaTiQ1p5DFcffuXRM79RAfy6RW4HO+sbHR9lIIAnzy+ZxnBszoQ5Y5RghNpXWEvK1M+Pq1Xqdv3rxZXl6mkPysdm7ZInuS8kS7u7tra2ulcpkkMyuVBqeOc5LTy5uFTmLHUryzpdLgzJMfv3jxotQ1UGZ1fxSpAynUtPs954LATYZ3cHBQ6pceCTTZG3Gz1EeePXvGWVpdXeXt63R2+S4kVrZZJl9yvz3plH4R2QCf3tqrzOf8yZMnqTJ1Z2eHhOy3jAbMiSyTy4o9KfUx6U3dvn271C8NDpzMjHyXr4zSdILkjNQ85URvTlENSpxSwhEJX6odJNadyKbhMav7owhPbSQdxzVJTyva5I92UCCH6PTM6qQoC4+c7mZ7bj5VaSTKUG53iTItbTQZzf7N+GwxcX86R5QN8ZrqxMXbQ6ZHy+JZKuqy6BwL6oIzECsJlKUywhfew4cP8/XTdnbZVvtNKfXW58+feb1161aquHv3bv2cHx0dnelA59LSUrqOuTzZEJc22cn29vZo+mTsFa91r3I5swYu+VzOuafORZ3qjDEHFulMrYuDSVkDOvfpq1HU+V/06ARA1N1AGwNPgUMmM5uR705Df7LmfON4F9oUUINkVvenkdJxXU0MHASF1dXV0Z31Mg44fvmRW7B4m7iQVbAUhYQ8Fswa6OQRpn94ATMDKUsd46Carl6QgyaQEWVob8cfKTM1PXsiJoUskudmEtTYT8oZkWG3Z8TcieZcnEn1vNFzXVxcLBOuXGGf69AqZabOcxctJ6FURuGb13y1dG7j5Zvy6tWrqUo91z6ne+3aNV4TIl6/fs1VjCQlmJbcRJlpUjeJC7BMawYQSVCycqYSo9gol/b48wwdHz9+bK/EYA0syBXNejY2Nlgn6SlVAgWhbFo6RYhjaqmcJJf//PMPrwSW69evj4LEt5WwzjbAzomjmxgDW6x2dFa68hacDrkypyhx+IcSqTrPamto8insmNauU+M656wmQSG3yBkmHaFQ87BWJmV+kEwg5WQnKbNsfbNorPMEk2pO0xoPlGXCmKSGtcyc7Bjlds/bfYi6t+1RT8Nu102gXWTa4nX9yF6ljPHFs8Noj6WD2eqJygrbN4VtdU543aX2nOjscJJLSb+A01gvHCQO5NNLe/tJzue8vQomyiXWrrPFJJTK99h0rrjMg4kXEWtuV848zNnuFdV65YLV1ku1o7PseLSs2tnaHWjLyCnKbqec9ujMfGqJMKUyJtute9uivT0zMX4CdQoz3pE+8F7dOfj33395nXjnqfaVE3BzK6iDTmd9DO7NmzeEp5Tp8L169SqLR9onamMfZWau3dO2Q0m3NYEA6ddm/PHdu3e8ZoDg06dPvJYFRtgNWnDnzh1CW/ruafkpp1j8r7/+4jXnLXfX6oDp7u5unteeKJ1+5JDr2EfO6tLSUqppf/bsWarSBcIHuw0RuRzqbR6utVrmc04IIrykOg2XGKkD65x4tyk53/gtq6ejpyYeP35MDEwgYiUT4+GMwcTZOnfF2D0OjQOsR0QIzRBHtIOnVBPT5jcjBp4dDmplZYUTWIPVnH726HSxmNWdA+ILUWxnZ6dzJ5xYQLBLplVzqXFkV0xNEpbnvdKO8d5h5+dpE+XRlmQqhOAMkWTx9BQjYTHjj3t7ezWbjMxf1YFOClT5huDoxgdrfugXF0dN1zi3Mx7iafu19bsNSQqJnlkJqNahnDzHnRxX6jk+2OUjPnL9+vX0HuN0KVSGcSdKF6uDwMUlmSuR1Cr9Ja6jiWkQ12wp/STSzXKQI7miSeNy5bIPbc+NrXDsZdbm9uHPKsufGH/Yo5NrVhNz4tlYhPeOgDz7wcSJZrxlGgCzuvORZKt9yj4X9owfUlTJro6OjogRXNi5I5X2U3dtK7pxrHNa5y8PBZL5EYJrNtk+nTMNO0amOLFPz1fLjBQ2Ziw+A/vJsZQQOynIzoMstr2vifYORE7+Dx8PknqIz3Z9oLb95URQ5doslely96vtCFXp7XSeOk2nceL8435LTKsS1gibBM+2U8qRzvODpxk7M08MRCfXrOY8G62kdD8b03IfweeAh82s7twkTSmVk7BYh/ZmjBWCTicRmZnbf8kpP6RoBzLog86TBmWRZGmEJ1ZC4KPMK73qb3OcICoRTVZWVtpsMrGy3WFWmKTn6Ugap0X/3O7K/GyRoD9q/maexWcgeHEspTs8MnGUZwb2hzW0d0ORA69DOSR5vI/tfUSO5XS3FaU/JrfB6r38+ruBVFPIVGJIe+1QTgF81Hd2duodfT72CR1gKQIFmUcNFGAl7YghQSPXEWkWc6axNU+X76ewdcImwbO9qIlmtWM248rND0hzgBw4R5d2zIiBZ4G3gH0+RTc1j6ZMvIeq4Sidhe9Na9ep5QYPr6U+kkBWhzszT9CY10xiTqQcmY0oU+ojnQjY2VxFRChznGjX0/ZisxtlwkgieDteGe0626lte2dvq/qtgBxC3fOJi7dnI8umjCye85Zyu1Gq43uOae2cCnagVBo5RaUyQrXqvFP6dZzVUtIvyOcz+AyX1hNt/Gk/9rmO6vzt1Yo2yLRrQOeaGg8myJxor9MqK6ybaK/uoNpuhd0eP65WVti5qLPaYG1MretsQw1y4YN5sqp2t2nMVHSO/Wd1zmTkwFlzqTfqUbO3pelEe7DM1jl2nQJntZR6aYH/8t636ApMbJfSSSWWnWLU4A9Lt7vt0dLCbp/iSRSdLyPSpXXz5s21tbV5ng/WD3kyf4uehyNHYPVznjx5Qnew/ykd2Ml2jPvt6F8Mrr9mldR/ZCH5hZZ+UZ4nyVC7Bsx7dfoJxIU87Dzt5xR9c//+/TaxOzw8bJ/y0UVhRLrMePe9cn9dnox0pOLX9TwcmdVJ6jsjkqSe6Hk4cgRWkiRpCKbeqyslSZIknejzvTpHYCX1nRFJUk84AitJkqQzZ1YnSZI0BGZ1kiRJQ2BWJ0mSNARmdZrl/kipSNJl8vz584WRThh8+/YtjR8+fCh1qTfM6i6qGm4qAk2ZdqGUvW+UCZJ0kkJVpbVRJow8ffq0tI4hCSszjRBCaeysvErGtrKycnh4+PXr1+Pj48wf+RM7F+IPJ+qyMau72N6/f0/Ewfr6OoHmgiZ2W1tbOYoorWeP2D3jO0DSuSOmJYVKcLhx48bNmzfLtJOcrA0g0/50PTkZy9b1IH/28M6dO6V+gljKnGRsCaf5S2XLy8tv3rz5tqLRn966d+/eRfmribpszOoG4t9//+X16OgoVUkagM3NTXKsmkLt7e3Rla23zVZXV0nCpmVyrZWVFZK/H6ZiHz582NnZWVtbK/UxbJoZXr58WepSz5jVDdb9+/dHIwnftGMHtNPXfPr0aZn2/YhGO0gxfh+rM1rRPlZCB5r5WXMm5TGUupW2ez0/djuLR2kdocpUVkshf7Ua7fyd52BK68lBZU4KGxsbFE63e5LO2vHx8fLycqmc3Dn79OkTr8QfMryHDx+OpsySu27//PNPqjP8999/vCZNzLay7MHBwdLSEoWMyVKQ+smsbiCS2dSwRU5DLzYDCvv7+0SiNgOjr/nx48dMpR/cJkBU6ftm0uvXr1+9elUmjDKhdiiEji8zJ+QFGdL169eZRKhlQbIl1pCZaam515xIv+pDLWCvWGF7FEylH8+k7e1tqpk/M4Mvg3pcJG3tQbESuuyUmZSxG2bOnJL6pr3qQdghfFF49+4dr8+ePSMyxLTuWQYxyNjKfGO9vorYSKwolStXCHcEPeZnzQQNlmJqsj2pp0bfdF3T2tUfhJu8g3Hv3r0yYQwZFTPU9Ig525lJa5iactbJ/KminblN+KJt6UxtFwSTmKFUvvdt7xt1Kcrt4zJoWyh3doaWmnGiPZbxPY/xTaifeKdKSZdMAlQNX7muczmn3F7CVNuwU2UlNT4kJI7HhMzWBsAWUxPEWJDZ0G5alwdvfSn1kvfqLrYEIKLVq1evnjfDrMjoJIhEVD9//pz2jmvXrvGa3vCbN2+YedoPu9jW9evXS2WETXS60afTBsc8sJLVZt8q9i199Gh3JvOvrKzkkEE5k7C5uUkXnMbOKZLUc48fPyaLyg0z7O3tEQfaa78dVyWStMMLHfWhOkIc6zw4OEi12t3dJSmcGACJMBsbGyzy9u1bggmRinhIy28JgNJvZFY3BEQrgtGTJ09KffQYGSlX8qR0TC+D2hevEqAz3krET9pnIJYukO3t7VzOoNdHQGv7e1++fCmlH5l94dPlY81tFG0tLy8TQIgnR0dHBFtaKJNfZhRY6g+zuoEgGBGSci8qwWtaeJqBHnAnBWwfOOvcKgNTJ/Zrf11Wm2eiK/atc7Owmjh/B51+vhUovHjxIi0cUQqSLoSEuNx1u3XrFq/tKAQBauJFffv2bV7b/I8g2XkIj4DJshOfmXv06BEzz/NLW+ncmdUNBMGIkLS3t0c5Kc6zZ89GU771MlP4oYxl1J813L9/v03y1tbWdnZ26s8jmI2p+RdVzsL6+no7wJGnm2cE1sxfd49CFmnDd6a2Hf3Xr1+XkqR+I6VbWVnJ43Qg0N27d68+a5Gx0c3NzVS5/BdOfjif8Li6upoq63n16lXb72VZolldtpXV1n/KhAQxg7wEFhZJZin1SG5rd0xrV38ktBFWSv37R33b395nzjo6SRxEyuisp7MgqdL4zFVpHSFoMnOp/OSvJdrn6lo5ougsTsv4UtPmb9vbperBtruqHuI9KiVdMu3FizbiBVd6mdb8qAJc1LSUykjmic56xmeuaK/BM4hmo3VMDVwaNt76UuqlBf7LB7RFF2diuyT9eUYkST3R83DkCKwkSdIQmNVJkiQNgVmdJEnSEJjVSZIkDcHUX0uUkiRJkk70+dcS/gZWUt8ZkST1hL+BlSRJ0pkzq5MkSRoCszpJkqQhMKuTJEkaArM6zeXRo0f1b+RL0sA8f/58YeT+/fulaeTt27c0fvjwodSlfjOru+zI1YhZRLRS/zVPnz4dBcb/MRpKOiMJMqXSIDPLJHSCWxuj6KyW1itXVlZWDg8Pv379enx83C6yuLi4v7//999/l7rUb2Z1lxrd0Pfv39+7d29vb680/Q5ExmDNN27cKK1ngJS0jcuSLokkZ6XyvYwqJASRkJGu1SyNcLGxsZFJhL6dnZ0EECIhr3fu3OF1eXn5zZs33+YezU8Qe/DgQapS/5nVXWrPnj1bX19fXV199erVWdxUe/LkCa+JmJL0WxBSSM7I2La2tkrTCRI40rXt7e1USchqr5UQRxrHUpn0999/szgtqY5jVUx9+fJlqUsXgVndpUbMevjwYXqiL168SGOVQQqM3w+bNorxQwTKsthIaT3Rjpt0VpuR4tqeh13S2057ZpM0eHfu3Pn69evEW2hv3ry5ceNGO2B69+5deq0U3r17x+utW7dGzd/cvn2bV4JJ7tKl/3lwcLC0tEQhY7IUpAvErO7yyqhEwhnd2d3d3VFzQRZFY4YqqLY9WlK6jx8/ZlLyqjrA0bG5uUmEzSbAgvXhFayvr5ON1XuEbPH4+DiTwGrrY8sUmJp2qonClFk5K6ntki65aWMOtH/69KlUvvf582de9/f3FxcXiUiEGvJFYg6xpcYu6aIwq7u89vb2CFspr66ukp+lqwoKVDN+iu3t7TonHj9+XAc46BOTWnXC5eje2Td0kUnsSuuVKxsbG1tbWzVQZiW5R5hxE3rJoynfEGQnjguzlKFW0jSkZaU0cu3atVIaaW/j/fXXX6U0GqtN//Dly5f0P+lhEmoePXqUUEZLmU/qN7O6S4psiZwpAw3IWMazZ89SPTo64nVG8lSDHcjGPn78WCaMJDji8PBwZWUlY6bJzzoRlowwyyYvbAPu1atXef3y5Quv5JfsLdsytkqajYSslEY6fc62o5jw0sEM9D/pYdK53dnZIY4R4mgZ72FKPWRWd0nlDhkpVzIzUG2HWWe4f/9+gl2QmZUJY8gL19fX51ztDKyHDe3v7xNb2dV6T1GSWm3PsEV7p0tZpQNZLS8vb21tMT+d23v37tFCmSiXx/KknjOru6R2d3frE2mR54LzhFzCX9s3bct0hcd/evZDibadfjOd4OvXr1MY32IedhkfIiG81nuKnaEWSZfc0tISUaWNJK9fv05ylt9JtMnZ+KDEo9E/t/748eNSly6cfKN3TGvXMCSBq79aqGisqR7l+muJPFRHOpUq7bWcSXWpZHspIxuqUzMzMTfVhNqUQblukXnaBetsaWcrqbZ7ogFrPydS1Qk4QUuNJJmhxro25iQ61WCCtJRKU03YqYFLl1z7IemhyTvX853WLyJbmpgMJetKOYEsCHxoFykTRokXgbKmX8xWJpygJZOinWF8H2gp075fsP4TU6jbQt1Jc7th4y0uJekk3+ogSpTJTYBCJxtLYhftIhhvSUhEJ47pMuPzUEq9tMB/+dS2FhYmt0vSn2dEktQTPQ9HPlcnSZI0BGZ1kiRJQ2BWJ0mSNARmdZIkSUNgVidJkjQEU38DW0qSJEk60effwE79ga7/lIAkSdIF4gisJEnSEJjVSZIkDYHDrJIkSUPgvTpJkqQhMKuTJEkaArM6SZKkITCrkyRJGgKzOkmSpCEwq5MkSRoCszpJkqQhMKuTJEkaArM6SZKkITCrkyRJGgKzOkmSpCEwq5MkSRoCszpJkqQhMKuTJEkaArM6SZKkITCrkyRJGgKzOkmSpCEwq5MkSRoCszpJkqQhMKuTJEkaArM6SZKkITCrkyRJGgKzOkmSpCEwq5MkSRoCszpJkqQhMKuTJEkaArM6SZKkITCrkyRJGgKzOkmSpCEwq5MkSRoCszpJkqQhMKuTJEkaArM6SZKkITCrkyRJGgKzOkmSpCEwq5MkSRoCszpJkqQhMKuTJEkaArM6SZKkITCrkyRJGgKzOkmSpCEwq5MkSRoCszpJkqQhMKuTJEkaArM6SZKkITCrkyRJGgKzOkmSpCEwq5MkSRoCszpJkqQhMKuTJEkaArM6SZKkITCrkyRJGgKzOkmSpCEwq5MkSRoCszpJkqQhMKuTJEkaArM6SZKkITCrkyRJGgKzOkmSpCEwq5MkSRoCszpJkqQhMKuTJEkaArM6SZKkITCrkyRJGgKzOkmSpCEwq5MkSRoCszpJkqQhMKuTJEkaArM6SZKkITCrkyRJGgKzOkmSpCEwq5MkSRoCszpJkqQhMKuTJEkaArM6SZKkITCrkyRJGgKzOkmSpCEwq5MkSRoCszpJkqQhMKuTJEkaArM6SZKkITCrkyRJGgKzOkmSpCEwq5MkSRoCszpJkqQhMKuTJEkaArM6SZKkITCrkyRJGgKzOkmSpCEwq5MkSRoCszpJkqQhMKuTJEkaArM6SZKkITCrkyRJGgKzOkmSpCEwq5MkSRoCszpJkqQhMKuTJEkaArM6SZKkITCrkyRJGgKzOkmSpCEwq5MkSRoCszpJkqQhMKuTJEkaArM6SZKkITCrkyRJGgKzOkmSpIvvypX/B+KJwFKiL0mtAAAAAElFTkSuQmCC)"
   ]
  },
  {
   "cell_type": "markdown",
   "metadata": {
    "id": "9AADUQXvsAmn"
   },
   "source": [
    "# PART 2 #"
   ]
  },
  {
   "cell_type": "markdown",
   "metadata": {
    "id": "8dNgfuXlsCKr"
   },
   "source": [
    "Develop a linear regression using house price prediction dataset from UCI repository"
   ]
  },
  {
   "cell_type": "code",
   "execution_count": null,
   "metadata": {
    "id": "HMLACL48tOzf"
   },
   "outputs": [],
   "source": [
    "import pandas as pd\n",
    "import numpy as np\n",
    "# from sklearn import metrics\n",
    "# import matplotlib.pyplot as plt\n",
    "# import seaborn as sns\n",
    "# %matplotlib inline"
   ]
  },
  {
   "cell_type": "code",
   "execution_count": null,
   "metadata": {
    "id": "hq5MJkObtiee"
   },
   "outputs": [],
   "source": [
    "data = pd.read_csv(\"USA_Housing.csv\")"
   ]
  },
  {
   "cell_type": "code",
   "execution_count": null,
   "metadata": {
    "colab": {
     "base_uri": "https://localhost:8080/",
     "height": 195
    },
    "id": "PMQ8o4BOxFJX",
    "outputId": "316c41f2-9bfc-4eee-dde6-955f0ddf888e"
   },
   "outputs": [
    {
     "data": {
      "text/html": [
       "<div>\n",
       "<style scoped>\n",
       "    .dataframe tbody tr th:only-of-type {\n",
       "        vertical-align: middle;\n",
       "    }\n",
       "\n",
       "    .dataframe tbody tr th {\n",
       "        vertical-align: top;\n",
       "    }\n",
       "\n",
       "    .dataframe thead th {\n",
       "        text-align: right;\n",
       "    }\n",
       "</style>\n",
       "<table border=\"1\" class=\"dataframe\">\n",
       "  <thead>\n",
       "    <tr style=\"text-align: right;\">\n",
       "      <th></th>\n",
       "      <th>Avg. Area Income</th>\n",
       "      <th>Avg. Area House Age</th>\n",
       "      <th>Avg. Area Number of Rooms</th>\n",
       "      <th>Avg. Area Number of Bedrooms</th>\n",
       "      <th>Area Population</th>\n",
       "      <th>Price</th>\n",
       "      <th>Address</th>\n",
       "    </tr>\n",
       "  </thead>\n",
       "  <tbody>\n",
       "    <tr>\n",
       "      <th>0</th>\n",
       "      <td>79545.458574</td>\n",
       "      <td>5.682861</td>\n",
       "      <td>7.009188</td>\n",
       "      <td>4.09</td>\n",
       "      <td>23086.800503</td>\n",
       "      <td>1.059034e+06</td>\n",
       "      <td>208 Michael Ferry Apt. 674\\nLaurabury, NE 3701...</td>\n",
       "    </tr>\n",
       "    <tr>\n",
       "      <th>1</th>\n",
       "      <td>79248.642455</td>\n",
       "      <td>6.002900</td>\n",
       "      <td>6.730821</td>\n",
       "      <td>3.09</td>\n",
       "      <td>40173.072174</td>\n",
       "      <td>1.505891e+06</td>\n",
       "      <td>188 Johnson Views Suite 079\\nLake Kathleen, CA...</td>\n",
       "    </tr>\n",
       "    <tr>\n",
       "      <th>2</th>\n",
       "      <td>61287.067179</td>\n",
       "      <td>5.865890</td>\n",
       "      <td>8.512727</td>\n",
       "      <td>5.13</td>\n",
       "      <td>36882.159400</td>\n",
       "      <td>1.058988e+06</td>\n",
       "      <td>9127 Elizabeth Stravenue\\nDanieltown, WI 06482...</td>\n",
       "    </tr>\n",
       "    <tr>\n",
       "      <th>3</th>\n",
       "      <td>63345.240046</td>\n",
       "      <td>7.188236</td>\n",
       "      <td>5.586729</td>\n",
       "      <td>3.26</td>\n",
       "      <td>34310.242831</td>\n",
       "      <td>1.260617e+06</td>\n",
       "      <td>USS Barnett\\nFPO AP 44820</td>\n",
       "    </tr>\n",
       "    <tr>\n",
       "      <th>4</th>\n",
       "      <td>59982.197226</td>\n",
       "      <td>5.040555</td>\n",
       "      <td>7.839388</td>\n",
       "      <td>4.23</td>\n",
       "      <td>26354.109472</td>\n",
       "      <td>6.309435e+05</td>\n",
       "      <td>USNS Raymond\\nFPO AE 09386</td>\n",
       "    </tr>\n",
       "  </tbody>\n",
       "</table>\n",
       "</div>"
      ],
      "text/plain": [
       "   Avg. Area Income  ...                                            Address\n",
       "0      79545.458574  ...  208 Michael Ferry Apt. 674\\nLaurabury, NE 3701...\n",
       "1      79248.642455  ...  188 Johnson Views Suite 079\\nLake Kathleen, CA...\n",
       "2      61287.067179  ...  9127 Elizabeth Stravenue\\nDanieltown, WI 06482...\n",
       "3      63345.240046  ...                          USS Barnett\\nFPO AP 44820\n",
       "4      59982.197226  ...                         USNS Raymond\\nFPO AE 09386\n",
       "\n",
       "[5 rows x 7 columns]"
      ]
     },
     "execution_count": 103,
     "metadata": {
      "tags": []
     },
     "output_type": "execute_result"
    }
   ],
   "source": [
    "data.head()"
   ]
  },
  {
   "cell_type": "code",
   "execution_count": null,
   "metadata": {
    "colab": {
     "base_uri": "https://localhost:8080/"
    },
    "id": "ZNyFcIJlxF4a",
    "outputId": "f8bcd7f5-ec1c-4939-dd9c-cda04417deb4"
   },
   "outputs": [
    {
     "name": "stdout",
     "output_type": "stream",
     "text": [
      "<class 'pandas.core.frame.DataFrame'>\n",
      "RangeIndex: 5000 entries, 0 to 4999\n",
      "Data columns (total 7 columns):\n",
      " #   Column                        Non-Null Count  Dtype  \n",
      "---  ------                        --------------  -----  \n",
      " 0   Avg. Area Income              5000 non-null   float64\n",
      " 1   Avg. Area House Age           5000 non-null   float64\n",
      " 2   Avg. Area Number of Rooms     5000 non-null   float64\n",
      " 3   Avg. Area Number of Bedrooms  5000 non-null   float64\n",
      " 4   Area Population               5000 non-null   float64\n",
      " 5   Price                         5000 non-null   float64\n",
      " 6   Address                       5000 non-null   object \n",
      "dtypes: float64(6), object(1)\n",
      "memory usage: 273.6+ KB\n"
     ]
    }
   ],
   "source": [
    "data.info()"
   ]
  },
  {
   "cell_type": "code",
   "execution_count": null,
   "metadata": {
    "id": "gmzop7edxmnN"
   },
   "outputs": [],
   "source": [
    "X = data.iloc[:,0:5]\n",
    "y=data.iloc[:,5]"
   ]
  },
  {
   "cell_type": "code",
   "execution_count": null,
   "metadata": {
    "colab": {
     "base_uri": "https://localhost:8080/"
    },
    "id": "jIFMnyxRxx5C",
    "outputId": "a2860a95-d383-44f8-82a8-882c7ef44a10"
   },
   "outputs": [
    {
     "data": {
      "text/plain": [
       "(5000, 5)"
      ]
     },
     "execution_count": 106,
     "metadata": {
      "tags": []
     },
     "output_type": "execute_result"
    }
   ],
   "source": [
    "X.shape"
   ]
  },
  {
   "cell_type": "code",
   "execution_count": null,
   "metadata": {
    "colab": {
     "base_uri": "https://localhost:8080/"
    },
    "id": "L0kgeTL9x-tM",
    "outputId": "d7e60770-2217-415a-b2cc-d1ebbfd38acc"
   },
   "outputs": [
    {
     "data": {
      "text/plain": [
       "(5000,)"
      ]
     },
     "execution_count": 107,
     "metadata": {
      "tags": []
     },
     "output_type": "execute_result"
    }
   ],
   "source": [
    "y.shape"
   ]
  },
  {
   "cell_type": "code",
   "execution_count": null,
   "metadata": {
    "id": "VhUMojbzyHIf"
   },
   "outputs": [],
   "source": [
    "from sklearn.model_selection import train_test_split\n",
    "\n",
    "X_train, X_test, y_train, y_test = train_test_split(X, y, test_size=0.2, random_state=0)"
   ]
  },
  {
   "cell_type": "code",
   "execution_count": null,
   "metadata": {
    "colab": {
     "base_uri": "https://localhost:8080/"
    },
    "id": "EjhitYgly1SL",
    "outputId": "8a083f6c-f469-4ba9-beab-c1f6ea4e8381"
   },
   "outputs": [
    {
     "data": {
      "text/plain": [
       "LinearRegression(copy_X=True, fit_intercept=True, n_jobs=None, normalize=False)"
      ]
     },
     "execution_count": 109,
     "metadata": {
      "tags": []
     },
     "output_type": "execute_result"
    }
   ],
   "source": [
    "from sklearn.linear_model import LinearRegression\n",
    "regressor = LinearRegression()\n",
    "regressor.fit(X_train,y_train)"
   ]
  },
  {
   "cell_type": "code",
   "execution_count": null,
   "metadata": {
    "colab": {
     "base_uri": "https://localhost:8080/"
    },
    "id": "poZiqTuhy925",
    "outputId": "c0db99ed-eb0d-4d21-c010-b239610f0c76"
   },
   "outputs": [
    {
     "data": {
      "text/plain": [
       "0.9146454505137889"
      ]
     },
     "execution_count": 110,
     "metadata": {
      "tags": []
     },
     "output_type": "execute_result"
    }
   ],
   "source": [
    "y_pred = regressor.predict(X_test)\n",
    "regressor.score(X_test,y_test)"
   ]
  },
  {
   "cell_type": "code",
   "execution_count": null,
   "metadata": {
    "colab": {
     "base_uri": "https://localhost:8080/",
     "height": 344
    },
    "id": "DhrhioH1y_yO",
    "outputId": "bcad33c3-3121-4be6-eb5f-1818650cda57"
   },
   "outputs": [
    {
     "name": "stderr",
     "output_type": "stream",
     "text": [
      "/usr/local/lib/python3.6/dist-packages/seaborn/_decorators.py:43: FutureWarning: Pass the following variables as keyword args: x, y. From version 0.12, the only valid positional argument will be `data`, and passing other arguments without an explicit keyword will result in an error or misinterpretation.\n",
      "  FutureWarning\n"
     ]
    },
    {
     "data": {
      "image/png": "[encoded data removed]",
      "text/plain": [
       "<Figure size 432x288 with 1 Axes>"
      ]
     },
     "metadata": {
      "needs_background": "light",
      "tags": []
     },
     "output_type": "display_data"
    }
   ],
   "source": [
    "sns.regplot(y_test, y_pred, scatter_kws={\"color\": \"black\"}, line_kws={\"color\": \"red\"});"
   ]
  },
  {
   "cell_type": "markdown",
   "metadata": {
    "id": "anP6dQGaXYLh"
   },
   "source": [
    "# PART 3 #"
   ]
  },
  {
   "cell_type": "markdown",
   "metadata": {
    "id": "2bN6xq-efyXN"
   },
   "source": [
    "Part-3: using Numeric, Pandas and other Python libraries\n",
    "\n",
    "- Write the Python code to compute entropy and information gain\n",
    "- Write the  Python code to demonstrate conditional probability\n",
    "- Write the  Python code to compute Euclidean Distance between data points\n",
    "- Write the  Python code to calculate covariance matrix, Eigen values and Eigen  vectors\n",
    "-Write the  Python code to calculate the following\n",
    "  \n",
    "  Accuracy e\n",
    "\n",
    " Misclassification \n",
    "\n",
    " Type-1 and Type-2 error rates\n",
    "\n",
    " Sensitivity\n",
    "\n",
    " Specificity"
   ]
  },
  {
   "cell_type": "markdown",
   "metadata": {
    "id": "LAtpKVrjgM42"
   },
   "source": [
    "## Write the Python code to compute entropy and information gain ##"
   ]
  },
  {
   "cell_type": "code",
   "execution_count": null,
   "metadata": {
    "colab": {
     "base_uri": "https://localhost:8080/",
     "height": 35
    },
    "id": "9CiVtVf_hXBp",
    "outputId": "8df90eb0-80f9-4165-eb9f-be8b62d0b57b"
   },
   "outputs": [
    {
     "data": {
      "application/vnd.google.colaboratory.intrinsic+json": {
       "type": "string"
      },
      "text/plain": [
       "'/content/drive/My Drive/Colab Notebooks/Data'"
      ]
     },
     "execution_count": 5,
     "metadata": {
      "tags": []
     },
     "output_type": "execute_result"
    }
   ],
   "source": [
    "os.chdir('/content/drive/My Drive/Colab Notebooks/Data/')\n",
    "os.getcwd()"
   ]
  },
  {
   "cell_type": "code",
   "execution_count": null,
   "metadata": {
    "id": "AFkHdfnqXeCP"
   },
   "outputs": [],
   "source": [
    "import os\n",
    "import pandas as pd\n",
    "import numpy as np\n",
    "\n",
    "dataset=pd.read_csv('dataset.csv')\n",
    "dataset.head()\n",
    "target_col = dataset.iloc[:,-1]"
   ]
  },
  {
   "cell_type": "code",
   "execution_count": null,
   "metadata": {
    "colab": {
     "base_uri": "https://localhost:8080/",
     "height": 462
    },
    "id": "GbJZK-F2piz0",
    "outputId": "31f85f5f-d5e8-42a4-f661-39304f5a5d2c"
   },
   "outputs": [
    {
     "data": {
      "text/html": [
       "<div>\n",
       "<style scoped>\n",
       "    .dataframe tbody tr th:only-of-type {\n",
       "        vertical-align: middle;\n",
       "    }\n",
       "\n",
       "    .dataframe tbody tr th {\n",
       "        vertical-align: top;\n",
       "    }\n",
       "\n",
       "    .dataframe thead th {\n",
       "        text-align: right;\n",
       "    }\n",
       "</style>\n",
       "<table border=\"1\" class=\"dataframe\">\n",
       "  <thead>\n",
       "    <tr style=\"text-align: right;\">\n",
       "      <th></th>\n",
       "      <th>outlook</th>\n",
       "      <th>temperature</th>\n",
       "      <th>humidity</th>\n",
       "      <th>wind</th>\n",
       "      <th>answer</th>\n",
       "    </tr>\n",
       "  </thead>\n",
       "  <tbody>\n",
       "    <tr>\n",
       "      <th>0</th>\n",
       "      <td>sunny</td>\n",
       "      <td>hot</td>\n",
       "      <td>high</td>\n",
       "      <td>weak</td>\n",
       "      <td>no</td>\n",
       "    </tr>\n",
       "    <tr>\n",
       "      <th>1</th>\n",
       "      <td>sunny</td>\n",
       "      <td>hot</td>\n",
       "      <td>high</td>\n",
       "      <td>strong</td>\n",
       "      <td>no</td>\n",
       "    </tr>\n",
       "    <tr>\n",
       "      <th>2</th>\n",
       "      <td>overcast</td>\n",
       "      <td>hot</td>\n",
       "      <td>high</td>\n",
       "      <td>weak</td>\n",
       "      <td>yes</td>\n",
       "    </tr>\n",
       "    <tr>\n",
       "      <th>3</th>\n",
       "      <td>rain</td>\n",
       "      <td>mild</td>\n",
       "      <td>high</td>\n",
       "      <td>weak</td>\n",
       "      <td>yes</td>\n",
       "    </tr>\n",
       "    <tr>\n",
       "      <th>4</th>\n",
       "      <td>rain</td>\n",
       "      <td>cool</td>\n",
       "      <td>normal</td>\n",
       "      <td>weak</td>\n",
       "      <td>yes</td>\n",
       "    </tr>\n",
       "    <tr>\n",
       "      <th>5</th>\n",
       "      <td>rain</td>\n",
       "      <td>cool</td>\n",
       "      <td>normal</td>\n",
       "      <td>strong</td>\n",
       "      <td>no</td>\n",
       "    </tr>\n",
       "    <tr>\n",
       "      <th>6</th>\n",
       "      <td>overcast</td>\n",
       "      <td>cool</td>\n",
       "      <td>normal</td>\n",
       "      <td>strong</td>\n",
       "      <td>yes</td>\n",
       "    </tr>\n",
       "    <tr>\n",
       "      <th>7</th>\n",
       "      <td>sunny</td>\n",
       "      <td>mild</td>\n",
       "      <td>high</td>\n",
       "      <td>weak</td>\n",
       "      <td>no</td>\n",
       "    </tr>\n",
       "    <tr>\n",
       "      <th>8</th>\n",
       "      <td>sunny</td>\n",
       "      <td>cool</td>\n",
       "      <td>normal</td>\n",
       "      <td>weak</td>\n",
       "      <td>yes</td>\n",
       "    </tr>\n",
       "    <tr>\n",
       "      <th>9</th>\n",
       "      <td>rain</td>\n",
       "      <td>mild</td>\n",
       "      <td>normal</td>\n",
       "      <td>weak</td>\n",
       "      <td>yes</td>\n",
       "    </tr>\n",
       "    <tr>\n",
       "      <th>10</th>\n",
       "      <td>sunny</td>\n",
       "      <td>mild</td>\n",
       "      <td>normal</td>\n",
       "      <td>strong</td>\n",
       "      <td>yes</td>\n",
       "    </tr>\n",
       "    <tr>\n",
       "      <th>11</th>\n",
       "      <td>overcast</td>\n",
       "      <td>mild</td>\n",
       "      <td>high</td>\n",
       "      <td>strong</td>\n",
       "      <td>yes</td>\n",
       "    </tr>\n",
       "    <tr>\n",
       "      <th>12</th>\n",
       "      <td>overcast</td>\n",
       "      <td>hot</td>\n",
       "      <td>normal</td>\n",
       "      <td>weak</td>\n",
       "      <td>yes</td>\n",
       "    </tr>\n",
       "    <tr>\n",
       "      <th>13</th>\n",
       "      <td>rain</td>\n",
       "      <td>mild</td>\n",
       "      <td>high</td>\n",
       "      <td>strong</td>\n",
       "      <td>no</td>\n",
       "    </tr>\n",
       "  </tbody>\n",
       "</table>\n",
       "</div>"
      ],
      "text/plain": [
       "     outlook temperature humidity    wind answer\n",
       "0      sunny         hot     high    weak     no\n",
       "1      sunny         hot     high  strong     no\n",
       "2   overcast         hot     high    weak    yes\n",
       "3       rain        mild     high    weak    yes\n",
       "4       rain        cool   normal    weak    yes\n",
       "5       rain        cool   normal  strong     no\n",
       "6   overcast        cool   normal  strong    yes\n",
       "7      sunny        mild     high    weak     no\n",
       "8      sunny        cool   normal    weak    yes\n",
       "9       rain        mild   normal    weak    yes\n",
       "10     sunny        mild   normal  strong    yes\n",
       "11  overcast        mild     high  strong    yes\n",
       "12  overcast         hot   normal    weak    yes\n",
       "13      rain        mild     high  strong     no"
      ]
     },
     "execution_count": 13,
     "metadata": {
      "tags": []
     },
     "output_type": "execute_result"
    }
   ],
   "source": [
    "dataset"
   ]
  },
  {
   "cell_type": "code",
   "execution_count": null,
   "metadata": {
    "id": "DrtQhILmXd_H"
   },
   "outputs": [],
   "source": [
    "def entropy(target_col):\n",
    "    elements,counts = np.unique(target_col,return_counts = True)\n",
    "    entropy = np.sum([(-counts[i]/np.sum(counts))*np.log2(counts[i]/np.sum(counts)) for i in range(len(elements))])\n",
    "    return entropy"
   ]
  },
  {
   "cell_type": "code",
   "execution_count": null,
   "metadata": {
    "id": "2NFrtnP0jAqH"
   },
   "outputs": [],
   "source": [
    "ent = entropy(target_col)"
   ]
  },
  {
   "cell_type": "code",
   "execution_count": null,
   "metadata": {
    "colab": {
     "base_uri": "https://localhost:8080/"
    },
    "id": "HMBgiamym9QY",
    "outputId": "860b86e4-8055-425f-bfeb-ba8534cfce2a"
   },
   "outputs": [
    {
     "data": {
      "text/plain": [
       "0.9402859586706309"
      ]
     },
     "execution_count": 12,
     "metadata": {
      "tags": []
     },
     "output_type": "execute_result"
    }
   ],
   "source": [
    "ent"
   ]
  },
  {
   "cell_type": "code",
   "execution_count": null,
   "metadata": {
    "id": "Dt2PBWsxm-SS"
   },
   "outputs": [],
   "source": [
    "def InfoGain(data,split_attribute_name,target_name=\"answer\"):\n",
    "    total_entropy = entropy(data[target_name])    \n",
    "    vals,counts= np.unique(data[split_attribute_name],return_counts=True)\n",
    "    Weighted_Entropy = np.sum([(counts[i]/np.sum(counts))*entropy(data.where(data[split_attribute_name]==vals[i]).dropna()[target_name]) for i in range(len(vals))])\n",
    "    Information_Gain = total_entropy - Weighted_Entropy\n",
    "    return Information_Gain"
   ]
  },
  {
   "cell_type": "code",
   "execution_count": null,
   "metadata": {
    "id": "nxG5LCAOpmRu"
   },
   "outputs": [],
   "source": [
    "info_outlook = InfoGain(dataset,\"outlook\",\"answer\")"
   ]
  },
  {
   "cell_type": "code",
   "execution_count": null,
   "metadata": {
    "id": "VEPA3I3kpx00"
   },
   "outputs": [],
   "source": [
    "info_temp = InfoGain(dataset,\"temperature\",\"answer\")"
   ]
  },
  {
   "cell_type": "code",
   "execution_count": null,
   "metadata": {
    "id": "z8ZwsMBdpzNa"
   },
   "outputs": [],
   "source": [
    "info_humidity = InfoGain(dataset,\"humidity\",'answer')"
   ]
  },
  {
   "cell_type": "code",
   "execution_count": null,
   "metadata": {
    "id": "rK-5WMmSqrs5"
   },
   "outputs": [],
   "source": [
    "info_wind = InfoGain(dataset,\"wind\",'answer')"
   ]
  },
  {
   "cell_type": "code",
   "execution_count": null,
   "metadata": {
    "colab": {
     "base_uri": "https://localhost:8080/"
    },
    "id": "oXwzPrVwq2mY",
    "outputId": "95da2717-9b7c-4d62-e8c7-9d2e6e062518"
   },
   "outputs": [
    {
     "name": "stdout",
     "output_type": "stream",
     "text": [
      " Info gain of Outlook:0.2467498197744391 \n",
      " Info gain of Temperature:0.029222565658954647 \n",
      " Info gain of Humidity:0.15183550136234136 \n",
      " Info gain of Wind:0.04812703040826927\n"
     ]
    }
   ],
   "source": [
    "print(\" Info gain of Outlook:{} \\n Info gain of Temperature:{} \\n Info gain of Humidity:{} \\n Info gain of Wind:{}\".format(info_outlook,info_temp,info_humidity,info_wind))"
   ]
  },
  {
   "cell_type": "markdown",
   "metadata": {
    "id": "GKay_Sdsxznk"
   },
   "source": [
    "## Write the Python code to demonstrate conditional probability ##"
   ]
  },
  {
   "cell_type": "code",
   "execution_count": null,
   "metadata": {
    "id": "a1Z4AB_ux2UR"
   },
   "outputs": [],
   "source": [
    "collection = {\"company\": [\"ford\", \"chevy\", \"ford\", \"ford\", \"ford\", \"toyota\"],\n",
    "              \"model\": [\"mustang\", \"camaro\", \"fiesta\", \"focus\", \"taurus\", \"camry\"],\n",
    "              \"rating\": [\"A\", \"B\", \"C\", \"A\", \"B\", \"B\"],\n",
    "              \"type\": [\"coupe\", \"coupe\", \"sedan\", \"sedan\", \"sedan\", \"sedan\"]}\n",
    "\n",
    "df = pd.DataFrame(collection)"
   ]
  },
  {
   "cell_type": "code",
   "execution_count": null,
   "metadata": {
    "colab": {
     "base_uri": "https://localhost:8080/",
     "height": 225
    },
    "id": "1g00cUo5z7sv",
    "outputId": "6e797255-c6cb-42d0-84fc-604dba60ada7"
   },
   "outputs": [
    {
     "data": {
      "text/html": [
       "<div>\n",
       "<style scoped>\n",
       "    .dataframe tbody tr th:only-of-type {\n",
       "        vertical-align: middle;\n",
       "    }\n",
       "\n",
       "    .dataframe tbody tr th {\n",
       "        vertical-align: top;\n",
       "    }\n",
       "\n",
       "    .dataframe thead th {\n",
       "        text-align: right;\n",
       "    }\n",
       "</style>\n",
       "<table border=\"1\" class=\"dataframe\">\n",
       "  <thead>\n",
       "    <tr style=\"text-align: right;\">\n",
       "      <th></th>\n",
       "      <th>company</th>\n",
       "      <th>model</th>\n",
       "      <th>rating</th>\n",
       "      <th>type</th>\n",
       "    </tr>\n",
       "  </thead>\n",
       "  <tbody>\n",
       "    <tr>\n",
       "      <th>0</th>\n",
       "      <td>ford</td>\n",
       "      <td>mustang</td>\n",
       "      <td>A</td>\n",
       "      <td>coupe</td>\n",
       "    </tr>\n",
       "    <tr>\n",
       "      <th>1</th>\n",
       "      <td>chevy</td>\n",
       "      <td>camaro</td>\n",
       "      <td>B</td>\n",
       "      <td>coupe</td>\n",
       "    </tr>\n",
       "    <tr>\n",
       "      <th>2</th>\n",
       "      <td>ford</td>\n",
       "      <td>fiesta</td>\n",
       "      <td>C</td>\n",
       "      <td>sedan</td>\n",
       "    </tr>\n",
       "    <tr>\n",
       "      <th>3</th>\n",
       "      <td>ford</td>\n",
       "      <td>focus</td>\n",
       "      <td>A</td>\n",
       "      <td>sedan</td>\n",
       "    </tr>\n",
       "    <tr>\n",
       "      <th>4</th>\n",
       "      <td>ford</td>\n",
       "      <td>taurus</td>\n",
       "      <td>B</td>\n",
       "      <td>sedan</td>\n",
       "    </tr>\n",
       "    <tr>\n",
       "      <th>5</th>\n",
       "      <td>toyota</td>\n",
       "      <td>camry</td>\n",
       "      <td>B</td>\n",
       "      <td>sedan</td>\n",
       "    </tr>\n",
       "  </tbody>\n",
       "</table>\n",
       "</div>"
      ],
      "text/plain": [
       "  company    model rating   type\n",
       "0    ford  mustang      A  coupe\n",
       "1   chevy   camaro      B  coupe\n",
       "2    ford   fiesta      C  sedan\n",
       "3    ford    focus      A  sedan\n",
       "4    ford   taurus      B  sedan\n",
       "5  toyota    camry      B  sedan"
      ]
     },
     "execution_count": 34,
     "metadata": {
      "tags": []
     },
     "output_type": "execute_result"
    }
   ],
   "source": [
    "df\n"
   ]
  },
  {
   "cell_type": "markdown",
   "metadata": {
    "id": "-5Lbxenf0TvV"
   },
   "source": [
    "probability of P(rating/type) "
   ]
  },
  {
   "cell_type": "code",
   "execution_count": null,
   "metadata": {
    "colab": {
     "base_uri": "https://localhost:8080/",
     "height": 195
    },
    "id": "wwE_GHHDz9E7",
    "outputId": "57a15f3b-4903-49eb-bb3c-db3288ebe9de"
   },
   "outputs": [
    {
     "data": {
      "text/html": [
       "<div>\n",
       "<style scoped>\n",
       "    .dataframe tbody tr th:only-of-type {\n",
       "        vertical-align: middle;\n",
       "    }\n",
       "\n",
       "    .dataframe tbody tr th {\n",
       "        vertical-align: top;\n",
       "    }\n",
       "\n",
       "    .dataframe thead th {\n",
       "        text-align: right;\n",
       "    }\n",
       "</style>\n",
       "<table border=\"1\" class=\"dataframe\">\n",
       "  <thead>\n",
       "    <tr style=\"text-align: right;\">\n",
       "      <th></th>\n",
       "      <th>rating</th>\n",
       "      <th>type</th>\n",
       "      <th>cpt</th>\n",
       "    </tr>\n",
       "  </thead>\n",
       "  <tbody>\n",
       "    <tr>\n",
       "      <th>0</th>\n",
       "      <td>A</td>\n",
       "      <td>coupe</td>\n",
       "      <td>0.500000</td>\n",
       "    </tr>\n",
       "    <tr>\n",
       "      <th>1</th>\n",
       "      <td>A</td>\n",
       "      <td>sedan</td>\n",
       "      <td>0.500000</td>\n",
       "    </tr>\n",
       "    <tr>\n",
       "      <th>2</th>\n",
       "      <td>B</td>\n",
       "      <td>sedan</td>\n",
       "      <td>0.666667</td>\n",
       "    </tr>\n",
       "    <tr>\n",
       "      <th>3</th>\n",
       "      <td>B</td>\n",
       "      <td>coupe</td>\n",
       "      <td>0.333333</td>\n",
       "    </tr>\n",
       "    <tr>\n",
       "      <th>4</th>\n",
       "      <td>C</td>\n",
       "      <td>sedan</td>\n",
       "      <td>1.000000</td>\n",
       "    </tr>\n",
       "  </tbody>\n",
       "</table>\n",
       "</div>"
      ],
      "text/plain": [
       "  rating   type       cpt\n",
       "0      A  coupe  0.500000\n",
       "1      A  sedan  0.500000\n",
       "2      B  sedan  0.666667\n",
       "3      B  coupe  0.333333\n",
       "4      C  sedan  1.000000"
      ]
     },
     "execution_count": 35,
     "metadata": {
      "tags": []
     },
     "output_type": "execute_result"
    }
   ],
   "source": [
    "df_s = df.groupby('rating')['type'].value_counts() / df.groupby('rating')['type'].count()\n",
    "df_f = df_s.reset_index(name='cpt')\n",
    "df_f.head()  # your conditional probability table"
   ]
  },
  {
   "cell_type": "markdown",
   "metadata": {
    "id": "YWaqKd7R0hwo"
   },
   "source": [
    "## Write the Python code to compute Euclidean Distance between data points ##"
   ]
  },
  {
   "cell_type": "code",
   "execution_count": null,
   "metadata": {
    "id": "Miq0-5YY28BR"
   },
   "outputs": [],
   "source": [
    "import math"
   ]
  },
  {
   "cell_type": "code",
   "execution_count": null,
   "metadata": {
    "id": "BsZjcbD40lcq"
   },
   "outputs": [],
   "source": [
    "data = {\"Name\":[\"Type-1\",\"Type-2\",\"Type-3\",\"Type4\"],\n",
    "      \"Acid Durability\":[7,7,3,1],\n",
    "      \"Acid Strength\":[7,4,4,4],\n",
    "      \"Class\":[\"Bad\",\"Bad\",\"Good\",\"Good\"]}"
   ]
  },
  {
   "cell_type": "code",
   "execution_count": null,
   "metadata": {
    "colab": {
     "base_uri": "https://localhost:8080/"
    },
    "id": "7lh3fPiF1hWh",
    "outputId": "50f98e5b-d4c3-4844-a082-f2bc4accd8c9"
   },
   "outputs": [
    {
     "data": {
      "text/plain": [
       "{'Acid Durability': [7, 7, 3, 1],\n",
       " 'Acid Strength': [7, 4, 4, 4],\n",
       " 'Class': ['Bad', 'Bad', 'Good', 'Good'],\n",
       " 'Name': ['Type-1', 'Type-2', 'Type-3', 'Type4']}"
      ]
     },
     "execution_count": 39,
     "metadata": {
      "tags": []
     },
     "output_type": "execute_result"
    }
   ],
   "source": [
    "data"
   ]
  },
  {
   "cell_type": "code",
   "execution_count": null,
   "metadata": {
    "id": "M3-mAaMA1iIB"
   },
   "outputs": [],
   "source": [
    "df = pd.DataFrame(data)"
   ]
  },
  {
   "cell_type": "code",
   "execution_count": null,
   "metadata": {
    "colab": {
     "base_uri": "https://localhost:8080/",
     "height": 166
    },
    "id": "YHI2X6xW1pUo",
    "outputId": "f5b26d15-8e34-4569-c934-f3834aee82ae"
   },
   "outputs": [
    {
     "data": {
      "text/html": [
       "<div>\n",
       "<style scoped>\n",
       "    .dataframe tbody tr th:only-of-type {\n",
       "        vertical-align: middle;\n",
       "    }\n",
       "\n",
       "    .dataframe tbody tr th {\n",
       "        vertical-align: top;\n",
       "    }\n",
       "\n",
       "    .dataframe thead th {\n",
       "        text-align: right;\n",
       "    }\n",
       "</style>\n",
       "<table border=\"1\" class=\"dataframe\">\n",
       "  <thead>\n",
       "    <tr style=\"text-align: right;\">\n",
       "      <th></th>\n",
       "      <th>Name</th>\n",
       "      <th>Acid Durability</th>\n",
       "      <th>Acid Strength</th>\n",
       "      <th>Class</th>\n",
       "    </tr>\n",
       "  </thead>\n",
       "  <tbody>\n",
       "    <tr>\n",
       "      <th>0</th>\n",
       "      <td>Type-1</td>\n",
       "      <td>7</td>\n",
       "      <td>7</td>\n",
       "      <td>Bad</td>\n",
       "    </tr>\n",
       "    <tr>\n",
       "      <th>1</th>\n",
       "      <td>Type-2</td>\n",
       "      <td>7</td>\n",
       "      <td>4</td>\n",
       "      <td>Bad</td>\n",
       "    </tr>\n",
       "    <tr>\n",
       "      <th>2</th>\n",
       "      <td>Type-3</td>\n",
       "      <td>3</td>\n",
       "      <td>4</td>\n",
       "      <td>Good</td>\n",
       "    </tr>\n",
       "    <tr>\n",
       "      <th>3</th>\n",
       "      <td>Type4</td>\n",
       "      <td>1</td>\n",
       "      <td>4</td>\n",
       "      <td>Good</td>\n",
       "    </tr>\n",
       "  </tbody>\n",
       "</table>\n",
       "</div>"
      ],
      "text/plain": [
       "     Name  Acid Durability  Acid Strength Class\n",
       "0  Type-1                7              7   Bad\n",
       "1  Type-2                7              4   Bad\n",
       "2  Type-3                3              4  Good\n",
       "3   Type4                1              4  Good"
      ]
     },
     "execution_count": 41,
     "metadata": {
      "tags": []
     },
     "output_type": "execute_result"
    }
   ],
   "source": [
    "df"
   ]
  },
  {
   "cell_type": "code",
   "execution_count": null,
   "metadata": {
    "id": "y6yprjmJ1p07"
   },
   "outputs": [],
   "source": [
    "test_data = {\"Name\":[\"Type-5\"],\n",
    "             \"Acid Durability\":[3],\n",
    "             \"Acid Strength\":[7]}"
   ]
  },
  {
   "cell_type": "code",
   "execution_count": null,
   "metadata": {
    "id": "h-qD7s3V1-JV"
   },
   "outputs": [],
   "source": [
    "dftest=pd.DataFrame(test_data) "
   ]
  },
  {
   "cell_type": "code",
   "execution_count": null,
   "metadata": {
    "colab": {
     "base_uri": "https://localhost:8080/",
     "height": 77
    },
    "id": "2gwENmjI2DPu",
    "outputId": "1427cbb0-03b2-402e-cf38-f0085b0f3ef5"
   },
   "outputs": [
    {
     "data": {
      "text/html": [
       "<div>\n",
       "<style scoped>\n",
       "    .dataframe tbody tr th:only-of-type {\n",
       "        vertical-align: middle;\n",
       "    }\n",
       "\n",
       "    .dataframe tbody tr th {\n",
       "        vertical-align: top;\n",
       "    }\n",
       "\n",
       "    .dataframe thead th {\n",
       "        text-align: right;\n",
       "    }\n",
       "</style>\n",
       "<table border=\"1\" class=\"dataframe\">\n",
       "  <thead>\n",
       "    <tr style=\"text-align: right;\">\n",
       "      <th></th>\n",
       "      <th>Name</th>\n",
       "      <th>Acid Durability</th>\n",
       "      <th>Acid Strength</th>\n",
       "    </tr>\n",
       "  </thead>\n",
       "  <tbody>\n",
       "    <tr>\n",
       "      <th>0</th>\n",
       "      <td>Type-5</td>\n",
       "      <td>3</td>\n",
       "      <td>7</td>\n",
       "    </tr>\n",
       "  </tbody>\n",
       "</table>\n",
       "</div>"
      ],
      "text/plain": [
       "     Name  Acid Durability  Acid Strength\n",
       "0  Type-5                3              7"
      ]
     },
     "execution_count": 44,
     "metadata": {
      "tags": []
     },
     "output_type": "execute_result"
    }
   ],
   "source": [
    "dftest"
   ]
  },
  {
   "cell_type": "code",
   "execution_count": null,
   "metadata": {
    "id": "2B8QClP-2EHy"
   },
   "outputs": [],
   "source": [
    "distance=[]\n",
    "for i in range(len(df)):\n",
    "  dist=math.sqrt((df.iloc[i,1]-dftest.iloc[0,1])**2 + (df.iloc[i,2]-dftest.iloc[0,2])**2)\n",
    "  distance.append(dist)\n",
    "\n"
   ]
  },
  {
   "cell_type": "code",
   "execution_count": null,
   "metadata": {
    "id": "ZmcryqOi2K-T"
   },
   "outputs": [],
   "source": [
    "df[\"distance\"]=distance"
   ]
  },
  {
   "cell_type": "code",
   "execution_count": null,
   "metadata": {
    "colab": {
     "base_uri": "https://localhost:8080/",
     "height": 166
    },
    "id": "oHUQLrFz2k6o",
    "outputId": "019da07b-806d-4165-e39a-0ac6575e8139"
   },
   "outputs": [
    {
     "data": {
      "text/html": [
       "<div>\n",
       "<style scoped>\n",
       "    .dataframe tbody tr th:only-of-type {\n",
       "        vertical-align: middle;\n",
       "    }\n",
       "\n",
       "    .dataframe tbody tr th {\n",
       "        vertical-align: top;\n",
       "    }\n",
       "\n",
       "    .dataframe thead th {\n",
       "        text-align: right;\n",
       "    }\n",
       "</style>\n",
       "<table border=\"1\" class=\"dataframe\">\n",
       "  <thead>\n",
       "    <tr style=\"text-align: right;\">\n",
       "      <th></th>\n",
       "      <th>Name</th>\n",
       "      <th>Acid Durability</th>\n",
       "      <th>Acid Strength</th>\n",
       "      <th>Class</th>\n",
       "      <th>distance</th>\n",
       "    </tr>\n",
       "  </thead>\n",
       "  <tbody>\n",
       "    <tr>\n",
       "      <th>0</th>\n",
       "      <td>Type-1</td>\n",
       "      <td>7</td>\n",
       "      <td>7</td>\n",
       "      <td>Bad</td>\n",
       "      <td>4.000000</td>\n",
       "    </tr>\n",
       "    <tr>\n",
       "      <th>1</th>\n",
       "      <td>Type-2</td>\n",
       "      <td>7</td>\n",
       "      <td>4</td>\n",
       "      <td>Bad</td>\n",
       "      <td>5.000000</td>\n",
       "    </tr>\n",
       "    <tr>\n",
       "      <th>2</th>\n",
       "      <td>Type-3</td>\n",
       "      <td>3</td>\n",
       "      <td>4</td>\n",
       "      <td>Good</td>\n",
       "      <td>3.000000</td>\n",
       "    </tr>\n",
       "    <tr>\n",
       "      <th>3</th>\n",
       "      <td>Type4</td>\n",
       "      <td>1</td>\n",
       "      <td>4</td>\n",
       "      <td>Good</td>\n",
       "      <td>3.605551</td>\n",
       "    </tr>\n",
       "  </tbody>\n",
       "</table>\n",
       "</div>"
      ],
      "text/plain": [
       "     Name  Acid Durability  Acid Strength Class  distance\n",
       "0  Type-1                7              7   Bad  4.000000\n",
       "1  Type-2                7              4   Bad  5.000000\n",
       "2  Type-3                3              4  Good  3.000000\n",
       "3   Type4                1              4  Good  3.605551"
      ]
     },
     "execution_count": 60,
     "metadata": {
      "tags": []
     },
     "output_type": "execute_result"
    }
   ],
   "source": [
    "df"
   ]
  },
  {
   "cell_type": "markdown",
   "metadata": {
    "id": "DWaeA9aN4v_C"
   },
   "source": [
    "## Write the Python code to calculate covariance matrix, Eigen values and Eigen vectors ##"
   ]
  },
  {
   "cell_type": "code",
   "execution_count": null,
   "metadata": {
    "id": "Zx8Txk2m4xZm"
   },
   "outputs": [],
   "source": [
    "import numpy as np\n",
    "import pandas as pd"
   ]
  },
  {
   "cell_type": "code",
   "execution_count": null,
   "metadata": {
    "id": "7R6OyblI401q"
   },
   "outputs": [],
   "source": [
    "x = np.array([10,39,19,23,28])\n",
    "y = np.array([43,13,32,21,20])"
   ]
  },
  {
   "cell_type": "code",
   "execution_count": null,
   "metadata": {
    "colab": {
     "base_uri": "https://localhost:8080/"
    },
    "id": "DmUrFpUB42pf",
    "outputId": "fafd6a24-d582-4fb0-bd64-822ba39b51d1"
   },
   "outputs": [
    {
     "data": {
      "text/plain": [
       "array([[ 115.7 , -120.55],\n",
       "       [-120.55,  138.7 ]])"
      ]
     },
     "execution_count": 63,
     "metadata": {
      "tags": []
     },
     "output_type": "execute_result"
    }
   ],
   "source": [
    "cov = np.cov(x,y)\n",
    "cov   # covariance matrix"
   ]
  },
  {
   "cell_type": "code",
   "execution_count": null,
   "metadata": {
    "id": "mvU6aXy744Hh"
   },
   "outputs": [],
   "source": [
    "eigen_values,eigen_vectors = np.linalg.eig(cov) "
   ]
  },
  {
   "cell_type": "code",
   "execution_count": null,
   "metadata": {
    "colab": {
     "base_uri": "https://localhost:8080/"
    },
    "id": "W7uXBawT453w",
    "outputId": "72d4dcc7-2192-4592-ca1c-c39a74d9d801"
   },
   "outputs": [
    {
     "data": {
      "text/plain": [
       "array([  6.10271473, 248.29728527])"
      ]
     },
     "execution_count": 68,
     "metadata": {
      "tags": []
     },
     "output_type": "execute_result"
    }
   ],
   "source": [
    "eigen_values"
   ]
  },
  {
   "cell_type": "code",
   "execution_count": null,
   "metadata": {
    "colab": {
     "base_uri": "https://localhost:8080/"
    },
    "id": "n-QkZ6pF47su",
    "outputId": "fc5789d5-958c-4f55-9535-e4e386cb0920"
   },
   "outputs": [
    {
     "data": {
      "text/plain": [
       "array([[-0.73992059,  0.67269422],\n",
       "       [-0.67269422, -0.73992059]])"
      ]
     },
     "execution_count": 72,
     "metadata": {
      "tags": []
     },
     "output_type": "execute_result"
    }
   ],
   "source": [
    "eigen_vectors"
   ]
  },
  {
   "cell_type": "code",
   "execution_count": null,
   "metadata": {
    "id": "myDTNyME4-Bg"
   },
   "outputs": [],
   "source": []
  },
  {
   "cell_type": "markdown",
   "metadata": {
    "id": "zlBV8ipi5bkC"
   },
   "source": [
    "## Write the Python code to calculate the following\n",
    "\n",
    " Accuracy e\n",
    "\n",
    " Misclassification\n",
    "\n",
    " Type-1 and Type-2 error rates\n",
    "\n",
    " Sensitivity\n",
    "\n",
    " Specificity"
   ]
  },
  {
   "cell_type": "code",
   "execution_count": null,
   "metadata": {
    "id": "8CGkZV5F5gGX"
   },
   "outputs": [],
   "source": [
    "dataset = pd.read_csv('Social_Network_Ads.csv')"
   ]
  },
  {
   "cell_type": "code",
   "execution_count": null,
   "metadata": {
    "colab": {
     "base_uri": "https://localhost:8080/",
     "height": 402
    },
    "id": "mc2TNsIf7v8r",
    "outputId": "d934c880-e178-4de6-afce-e1439dd1dfe9"
   },
   "outputs": [
    {
     "data": {
      "text/html": [
       "<div>\n",
       "<style scoped>\n",
       "    .dataframe tbody tr th:only-of-type {\n",
       "        vertical-align: middle;\n",
       "    }\n",
       "\n",
       "    .dataframe tbody tr th {\n",
       "        vertical-align: top;\n",
       "    }\n",
       "\n",
       "    .dataframe thead th {\n",
       "        text-align: right;\n",
       "    }\n",
       "</style>\n",
       "<table border=\"1\" class=\"dataframe\">\n",
       "  <thead>\n",
       "    <tr style=\"text-align: right;\">\n",
       "      <th></th>\n",
       "      <th>User ID</th>\n",
       "      <th>Gender</th>\n",
       "      <th>Age</th>\n",
       "      <th>EstimatedSalary</th>\n",
       "      <th>Purchased</th>\n",
       "    </tr>\n",
       "  </thead>\n",
       "  <tbody>\n",
       "    <tr>\n",
       "      <th>0</th>\n",
       "      <td>15624510</td>\n",
       "      <td>Male</td>\n",
       "      <td>19</td>\n",
       "      <td>19000</td>\n",
       "      <td>0</td>\n",
       "    </tr>\n",
       "    <tr>\n",
       "      <th>1</th>\n",
       "      <td>15810944</td>\n",
       "      <td>Male</td>\n",
       "      <td>35</td>\n",
       "      <td>20000</td>\n",
       "      <td>0</td>\n",
       "    </tr>\n",
       "    <tr>\n",
       "      <th>2</th>\n",
       "      <td>15668575</td>\n",
       "      <td>Female</td>\n",
       "      <td>26</td>\n",
       "      <td>43000</td>\n",
       "      <td>0</td>\n",
       "    </tr>\n",
       "    <tr>\n",
       "      <th>3</th>\n",
       "      <td>15603246</td>\n",
       "      <td>Female</td>\n",
       "      <td>27</td>\n",
       "      <td>57000</td>\n",
       "      <td>0</td>\n",
       "    </tr>\n",
       "    <tr>\n",
       "      <th>4</th>\n",
       "      <td>15804002</td>\n",
       "      <td>Male</td>\n",
       "      <td>19</td>\n",
       "      <td>76000</td>\n",
       "      <td>0</td>\n",
       "    </tr>\n",
       "    <tr>\n",
       "      <th>...</th>\n",
       "      <td>...</td>\n",
       "      <td>...</td>\n",
       "      <td>...</td>\n",
       "      <td>...</td>\n",
       "      <td>...</td>\n",
       "    </tr>\n",
       "    <tr>\n",
       "      <th>395</th>\n",
       "      <td>15691863</td>\n",
       "      <td>Female</td>\n",
       "      <td>46</td>\n",
       "      <td>41000</td>\n",
       "      <td>1</td>\n",
       "    </tr>\n",
       "    <tr>\n",
       "      <th>396</th>\n",
       "      <td>15706071</td>\n",
       "      <td>Male</td>\n",
       "      <td>51</td>\n",
       "      <td>23000</td>\n",
       "      <td>1</td>\n",
       "    </tr>\n",
       "    <tr>\n",
       "      <th>397</th>\n",
       "      <td>15654296</td>\n",
       "      <td>Female</td>\n",
       "      <td>50</td>\n",
       "      <td>20000</td>\n",
       "      <td>1</td>\n",
       "    </tr>\n",
       "    <tr>\n",
       "      <th>398</th>\n",
       "      <td>15755018</td>\n",
       "      <td>Male</td>\n",
       "      <td>36</td>\n",
       "      <td>33000</td>\n",
       "      <td>0</td>\n",
       "    </tr>\n",
       "    <tr>\n",
       "      <th>399</th>\n",
       "      <td>15594041</td>\n",
       "      <td>Female</td>\n",
       "      <td>49</td>\n",
       "      <td>36000</td>\n",
       "      <td>1</td>\n",
       "    </tr>\n",
       "  </tbody>\n",
       "</table>\n",
       "<p>400 rows × 5 columns</p>\n",
       "</div>"
      ],
      "text/plain": [
       "      User ID  Gender  Age  EstimatedSalary  Purchased\n",
       "0    15624510    Male   19            19000          0\n",
       "1    15810944    Male   35            20000          0\n",
       "2    15668575  Female   26            43000          0\n",
       "3    15603246  Female   27            57000          0\n",
       "4    15804002    Male   19            76000          0\n",
       "..        ...     ...  ...              ...        ...\n",
       "395  15691863  Female   46            41000          1\n",
       "396  15706071    Male   51            23000          1\n",
       "397  15654296  Female   50            20000          1\n",
       "398  15755018    Male   36            33000          0\n",
       "399  15594041  Female   49            36000          1\n",
       "\n",
       "[400 rows x 5 columns]"
      ]
     },
     "execution_count": 91,
     "metadata": {
      "tags": []
     },
     "output_type": "execute_result"
    }
   ],
   "source": [
    "dataset"
   ]
  },
  {
   "cell_type": "code",
   "execution_count": null,
   "metadata": {
    "id": "bSII6dOx6tUs"
   },
   "outputs": [],
   "source": [
    "X = dataset.iloc[:,[2,3]].values  # X is a matrix\n",
    "y=dataset.iloc[:,4].values  # y is an array"
   ]
  },
  {
   "cell_type": "code",
   "execution_count": null,
   "metadata": {
    "id": "Jl8o05gp6vol"
   },
   "outputs": [],
   "source": [
    "from sklearn.model_selection import train_test_split\n",
    "X_train,X_test,y_train,y_test = train_test_split(X,y,test_size=0.25,random_state=0)"
   ]
  },
  {
   "cell_type": "code",
   "execution_count": null,
   "metadata": {
    "id": "OgNKAar56x7u"
   },
   "outputs": [],
   "source": [
    "# feature scaling                      \n",
    "from sklearn.preprocessing import StandardScaler\n",
    "sc = StandardScaler()\n",
    "X_train = sc.fit_transform(X_train)  # when you are going to learn only then you will use fit \n",
    "X_test = sc.transform(X_test)"
   ]
  },
  {
   "cell_type": "code",
   "execution_count": null,
   "metadata": {
    "colab": {
     "base_uri": "https://localhost:8080/"
    },
    "id": "eyhZPQyJ601t",
    "outputId": "10f40fd4-0667-43e3-8469-7c226abb13c4"
   },
   "outputs": [
    {
     "data": {
      "text/plain": [
       "GaussianNB(priors=None, var_smoothing=1e-09)"
      ]
     },
     "execution_count": 77,
     "metadata": {
      "tags": []
     },
     "output_type": "execute_result"
    }
   ],
   "source": [
    "from sklearn.naive_bayes import GaussianNB\n",
    "classifier = GaussianNB()\n",
    "classifier.fit(X_train,y_train)"
   ]
  },
  {
   "cell_type": "code",
   "execution_count": null,
   "metadata": {
    "id": "8Z0m7pMI62X6"
   },
   "outputs": [],
   "source": [
    "y_pred = classifier.predict(X_test)"
   ]
  },
  {
   "cell_type": "code",
   "execution_count": null,
   "metadata": {
    "colab": {
     "base_uri": "https://localhost:8080/"
    },
    "id": "eU9KOX-Z640p",
    "outputId": "5a0e7a66-ea00-4cde-bb22-049b179788e4"
   },
   "outputs": [
    {
     "data": {
      "text/plain": [
       "array([[65,  3],\n",
       "       [ 7, 25]])"
      ]
     },
     "execution_count": 79,
     "metadata": {
      "tags": []
     },
     "output_type": "execute_result"
    }
   ],
   "source": [
    "# Making confusion matrix\n",
    "from sklearn.metrics import confusion_matrix\n",
    "cm = confusion_matrix(y_test,y_pred)\n",
    "cm"
   ]
  },
  {
   "cell_type": "code",
   "execution_count": null,
   "metadata": {
    "id": "THqdxOq466eC"
   },
   "outputs": [],
   "source": [
    "diag = np.diag(cm)"
   ]
  },
  {
   "cell_type": "code",
   "execution_count": null,
   "metadata": {
    "id": "vSFifscH7Ykr"
   },
   "outputs": [],
   "source": [
    "total = np.sum(cm)"
   ]
  },
  {
   "cell_type": "code",
   "execution_count": null,
   "metadata": {
    "colab": {
     "base_uri": "https://localhost:8080/"
    },
    "id": "Jv7PUGzH7cZM",
    "outputId": "603d4c57-459a-43f7-b7b8-cf6a37172328"
   },
   "outputs": [
    {
     "data": {
      "text/plain": [
       "100"
      ]
     },
     "execution_count": 85,
     "metadata": {
      "tags": []
     },
     "output_type": "execute_result"
    }
   ],
   "source": [
    "total"
   ]
  },
  {
   "cell_type": "code",
   "execution_count": null,
   "metadata": {
    "id": "-6I5m4sA7CjP"
   },
   "outputs": [],
   "source": [
    "correct_pred=np.sum(diag)"
   ]
  },
  {
   "cell_type": "code",
   "execution_count": null,
   "metadata": {
    "colab": {
     "base_uri": "https://localhost:8080/"
    },
    "id": "tq1SsS6d7UBH",
    "outputId": "4649416b-c863-42f3-d249-10dd91078437"
   },
   "outputs": [
    {
     "data": {
      "text/plain": [
       "90"
      ]
     },
     "execution_count": 83,
     "metadata": {
      "tags": []
     },
     "output_type": "execute_result"
    }
   ],
   "source": [
    "correct_pred"
   ]
  },
  {
   "cell_type": "markdown",
   "metadata": {
    "id": "Sk3y8va58H5v"
   },
   "source": [
    "### Accuracy ###"
   ]
  },
  {
   "cell_type": "code",
   "execution_count": null,
   "metadata": {
    "id": "kj88oT1x7VEe"
   },
   "outputs": [],
   "source": [
    "accuracy = (correct_pred/total)*100"
   ]
  },
  {
   "cell_type": "code",
   "execution_count": null,
   "metadata": {
    "colab": {
     "base_uri": "https://localhost:8080/"
    },
    "id": "3NMtvK7x7hFg",
    "outputId": "d6ae47f7-af81-427c-ca83-3cd5d3b2c043"
   },
   "outputs": [
    {
     "name": "stdout",
     "output_type": "stream",
     "text": [
      "Accuracy = 90.0%\n"
     ]
    }
   ],
   "source": [
    "print(\"Accuracy = {}%\".format(accuracy))"
   ]
  },
  {
   "cell_type": "markdown",
   "metadata": {
    "id": "ZFbJXI1R8M5t"
   },
   "source": [
    "### Misclassify ##"
   ]
  },
  {
   "cell_type": "code",
   "execution_count": null,
   "metadata": {
    "id": "l2NSzHVN7kvX"
   },
   "outputs": [],
   "source": [
    "miss = total - correct_pred"
   ]
  },
  {
   "cell_type": "code",
   "execution_count": null,
   "metadata": {
    "colab": {
     "base_uri": "https://localhost:8080/"
    },
    "id": "0iX3pnUc8SD6",
    "outputId": "dcce81cd-ff73-4839-95be-740bf4d413d1"
   },
   "outputs": [
    {
     "name": "stdout",
     "output_type": "stream",
     "text": [
      "Misclassification = 10.0%\n"
     ]
    }
   ],
   "source": [
    "misclassify = (miss/total)*100\n",
    "print(\"Misclassification = {}%\".format(misclassify)) "
   ]
  },
  {
   "cell_type": "markdown",
   "metadata": {
    "id": "9kxKfsWd8iNr"
   },
   "source": [
    "### Type 1 and Type 2 error rate ###"
   ]
  },
  {
   "cell_type": "code",
   "execution_count": null,
   "metadata": {
    "id": "Iij7TaRO8hSl"
   },
   "outputs": [],
   "source": [
    "error = np.diag(np.fliplr(cm))"
   ]
  },
  {
   "cell_type": "code",
   "execution_count": null,
   "metadata": {
    "colab": {
     "base_uri": "https://localhost:8080/"
    },
    "id": "r3UZ-zyF8zwt",
    "outputId": "0911ebf6-40ed-405e-a88c-84ec08599d02"
   },
   "outputs": [
    {
     "data": {
      "text/plain": [
       "array([3, 7])"
      ]
     },
     "execution_count": 96,
     "metadata": {
      "tags": []
     },
     "output_type": "execute_result"
    }
   ],
   "source": [
    "error"
   ]
  },
  {
   "cell_type": "code",
   "execution_count": null,
   "metadata": {
    "id": "rawSzDaR80az"
   },
   "outputs": [],
   "source": [
    "Type1error = error[0]\n",
    "Type2error = error[1]"
   ]
  },
  {
   "cell_type": "code",
   "execution_count": null,
   "metadata": {
    "colab": {
     "base_uri": "https://localhost:8080/"
    },
    "id": "25BJcQTS8855",
    "outputId": "8d87d191-bdc3-4aa6-bed9-50a1365460b6"
   },
   "outputs": [
    {
     "name": "stdout",
     "output_type": "stream",
     "text": [
      " Type 1 error = 3 \n",
      " Type 2 error = 7\n"
     ]
    }
   ],
   "source": [
    "print(\" Type 1 error = {} \\n Type 2 error = {}\".format(Type1error,Type2error))"
   ]
  },
  {
   "cell_type": "code",
   "execution_count": null,
   "metadata": {
    "id": "mw1jizLr9DWO"
   },
   "outputs": [],
   "source": [
    "error_rate = ((Type1error+Type2error)/total)*100"
   ]
  },
  {
   "cell_type": "code",
   "execution_count": null,
   "metadata": {
    "colab": {
     "base_uri": "https://localhost:8080/"
    },
    "id": "SqPmUfuZ9QqF",
    "outputId": "ba67ea5c-fe50-4282-99df-87bfbbd337ed"
   },
   "outputs": [
    {
     "name": "stdout",
     "output_type": "stream",
     "text": [
      "Erroe rate = 10.0%\n"
     ]
    }
   ],
   "source": [
    "print(\"Erroe rate = {}%\".format(error_rate)) "
   ]
  },
  {
   "cell_type": "markdown",
   "metadata": {
    "id": "Wg9GlMh99jXG"
   },
   "source": [
    "###  Sensitivity ###\n",
    "### Sensitivity = (True Positive)/(True Positive + False Negative) ###"
   ]
  },
  {
   "cell_type": "code",
   "execution_count": null,
   "metadata": {
    "id": "LY3IhDDH9WPD"
   },
   "outputs": [],
   "source": [
    "True_positive = diag[1]"
   ]
  },
  {
   "cell_type": "code",
   "execution_count": null,
   "metadata": {
    "id": "Hh-S-bgz94JE"
   },
   "outputs": [],
   "source": [
    "False_negative = error[1]"
   ]
  },
  {
   "cell_type": "code",
   "execution_count": null,
   "metadata": {
    "id": "292H7Mto95Pi"
   },
   "outputs": [],
   "source": [
    "Sensitivity = (True_positive)/(True_positive+False_negative)"
   ]
  },
  {
   "cell_type": "code",
   "execution_count": null,
   "metadata": {
    "colab": {
     "base_uri": "https://localhost:8080/"
    },
    "id": "iLjvdEiy-HvB",
    "outputId": "6e8f2672-3fb4-4316-98da-08d1b5b4c6ee"
   },
   "outputs": [
    {
     "name": "stdout",
     "output_type": "stream",
     "text": [
      "Sensitivity = 0.78125\n"
     ]
    }
   ],
   "source": [
    "print(\"Sensitivity = {}\".format(Sensitivity))"
   ]
  },
  {
   "cell_type": "markdown",
   "metadata": {
    "id": "pvEwoBd6-Zw5"
   },
   "source": [
    "### Specificity \n",
    "### Specificity = (True Negative)/(True Negative + False Positive)"
   ]
  },
  {
   "cell_type": "code",
   "execution_count": null,
   "metadata": {
    "id": "QggGUzTF-UGC"
   },
   "outputs": [],
   "source": [
    "True_negative = diag[0]\n",
    "False_positive = error[0]"
   ]
  },
  {
   "cell_type": "code",
   "execution_count": null,
   "metadata": {
    "id": "kgNZ1QxT-tGC"
   },
   "outputs": [],
   "source": [
    "Specificity = (True_negative)/(True_negative+False_positive)"
   ]
  },
  {
   "cell_type": "code",
   "execution_count": null,
   "metadata": {
    "colab": {
     "base_uri": "https://localhost:8080/"
    },
    "id": "TmIp2sZQ-zpv",
    "outputId": "1caf295f-9b0c-49a1-8456-6539fd9a0dd5"
   },
   "outputs": [
    {
     "name": "stdout",
     "output_type": "stream",
     "text": [
      "Specificity = 0.9558823529411765\n"
     ]
    }
   ],
   "source": [
    "print(\"Specificity = {}\".format(Specificity))"
   ]
  }
 ],
 "metadata": {
  "colab": {
   "collapsed_sections": [
    "mfTMBVeelBmh",
    "s5lP2JtJyXkr",
    "tnEemG6e0mOG",
    "xFCPgDwE4sas",
    "R_JmwPp77ntH",
    "7SZm-R8liCoH",
    "wuVims-Ci37b",
    "GKay_Sdsxznk"
   ],
   "name": "FML_FINAL_LAB_SUBMISSION.ipynb",
   "provenance": []
  },
  "kernelspec": {
   "display_name": "Python 3",
   "language": "python",
   "name": "python3"
  },
  "language_info": {
   "codemirror_mode": {
    "name": "ipython",
    "version": 3
   },
   "file_extension": ".py",
   "mimetype": "text/x-python",
   "name": "python",
   "nbconvert_exporter": "python",
   "pygments_lexer": "ipython3",
   "version": "3.8.3"
  }
 },
 "nbformat": 4,
 "nbformat_minor": 1
}
